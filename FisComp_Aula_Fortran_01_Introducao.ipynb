{
 "cells": [
  {
   "cell_type": "markdown",
   "metadata": {},
   "source": [
    "![Logotipo do IF](../Figs/Cab_IF_Red_01.png)\n",
    "\n",
    "<!--\n",
    "<h1> <span style=\"color:blue\">Curso de Física Computacional </span> </h1> \n",
    "-->\n",
    "\n",
    "<p style=\"margin-bottom:1cm;\"> </p>\n",
    "\n",
    "\n",
    "<center> <font size=\"8\" color=\"blue\">Curso de Física Computacional</font> </center>\n",
    "\n",
    "\n",
    "<font size=\"5\" color=\"blue\">**Prof. :** Salviano A. Leão -- Instituto de Física - UFG-GO</font>\n",
    "\n",
    "\n",
    "Esse material faz parte do curso de Física Computacional.\n"
   ]
  },
  {
   "cell_type": "markdown",
   "metadata": {},
   "source": [
    "# Aula 01\n",
    "\n",
    "\n",
    "## O que é um computador\n",
    "\n",
    "Na [Wikipedia](https://pt.wikipedia.org/wiki/Computador) há uma boa introdução sobre esse conceito.\n",
    "\n",
    "    “Uma máquina inteiramente automática, que dispõe de uma memória ampliada e de uma unidade de comando interno, que efetua operações lógicas de cálculo e de processamento da informação graças a algoritmos gravados” (Philippe Breton)\n",
    "\n",
    "    \n",
    "    \"Um computador é uma coleção de componentes que realizam operações lógicas e aritméticas sobre um grande volume de dados.\" (Miyazawa, 2001)\n",
    "    \n",
    "    Computador é ferramenta de trabalho, entretenimento e aprendizagem (ex. editores de textos, planilhas, sistemas de informação, jogos, internet, vídeos, etc).\n",
    "    \n",
    "    \n",
    "O computador é basicamente uma máquina, eletrônica automática, que lê dados, efetua cálculos e fornece resultados. Ou seja, máquina que recebe dados, compara valores, armazena dados e move dados; portanto trabalha com dados e estes bem colocado tornam-se uma informação. Hoje por exemplo, podemos incluir os smartphones como sendo uma categoria de computadores.\n",
    "\n",
    "\n",
    "**Processos Básicos:**\n",
    "\n",
    "- **Entrada de dados**: lê os dados iniciais ou constantes.\n",
    "- **Processamento**: efetua os cálculos.\n",
    "- **Saída de dados**: apresenta os resultados."
   ]
  },
  {
   "cell_type": "markdown",
   "metadata": {},
   "source": [
    "### Como funciona um computador? A organização de um computador\n",
    "\n",
    "-   Computador é uma máquina que deve resolver problemas através da execução de instruções previamente definidas\n",
    "\n",
    "-   Dispositivos:\n",
    "\n",
    "    -   Eletromecânicos (discos, teclados, etc);\n",
    "\n",
    "    -   Eletrônicos (processadores, controladores, memórias, etc)\n",
    "\n",
    "-   Computadores Digitais e Analógicos(???)\n",
    "\n",
    "### Processamento de Dados\n",
    "\n",
    "\n",
    "<span style=\"color:red\"> **Dados**</span> $\\Longrightarrow$ <span style=\"color:blue\"> **Processamento**</span> $\\Longrightarrow$ <span style=\"color:red\"> **Resultados**</span>\n",
    "\n",
    "\n",
    "\n",
    "### Tipos de Dados\n",
    "\n",
    "-   Numérico\n",
    "\n",
    "    -   Real (ponto flutuante), inteiro (ponto fixo)\n",
    "\n",
    "-   Alfanuméricos\n",
    "\n",
    "    -   caracteres\n",
    "\n",
    "-   Gráficos\n",
    "\n",
    "    -   mapas, desenhos, etc.\n",
    "\n",
    "-   Outros...\n",
    "\n",
    "### Programas e Algoritmos\n",
    "\n",
    "-   Conjuntos de instruções que realizam determinadas tarefas\n",
    "\n",
    "-   Algoritmos, visto na disciplina de IC\n",
    "\n",
    "-   Instruções\n",
    "\n",
    "    -   detalhamento de um programa;\n",
    "\n",
    "    -   exemplo, copiar um número de um local para outro na memória, somar dois números, etc.\n",
    "\n",
    "### Arquitetura de John Von Neumann\n",
    "\n",
    "Deve-se a Jonh von Neumann o modelo básico do sistema digital\n",
    "programável que é usado, até hoje.\n",
    "\n",
    "![Arquitetura de computadores de Von Neumann](../Figs/Von_Neumann_architecture_02.png)\n",
    "\n",
    "\n",
    "### Linguagem de programação\n",
    "\n",
    "-   Método padronizado para expressar instruções para um computador;\n",
    "\n",
    "-   Conjunto de regras sintáticas e semânticas usadas para definir um\n",
    "    programa de computador;\n",
    "\n",
    "-   Permite que o programador especifique precisamente sobre quais dados\n",
    "    um computador vai atuar, como estes dados serão armazenados ou\n",
    "    transmitidos e quais ações devem ser tomadas sob várias\n",
    "    circunstâncias.\n",
    "\n",
    "-   Elas podem ser: compiladas e interpretadas\n",
    "\n",
    "### Código Fonte\n",
    "\n",
    "-   O conjunto de palavras reservadas, compostas de acordo com as regras\n",
    "    especificas da linguagem usada, constituem o código fonte de um\n",
    "    software.\n",
    "\n",
    "-   O código fonte é traduzido para código de máquina (zeros e uns),\n",
    "    para que ele possa ser executado pelo processador.\n",
    "\n",
    "-   As linguagens de programação permitem aos programadores uma maior\n",
    "    produtividade, pois expressar suas ideias nesta é mais fácil do que\n",
    "    na linguagem que o computador entende nativamente (o código de\n",
    "    máquina).\n",
    "\n",
    "### Características de uma linguagem\n",
    "\n",
    "-   Deve ser projetada para adotar uma sintaxe de nível mais alto, que\n",
    "    possa ser mais facilmente entendida por programadores humanos;\n",
    "\n",
    "-   Permitem aos programadores escreverem programas mais organizados com\n",
    "    maior rapidez;\n",
    "\n",
    "-   Tornam os programas menos dependentes de computadores ou ambientes\n",
    "    computacionais específicos (propriedade chamada de portabilidade);\n",
    "\n",
    "-   Os programas escritos em linguagens de programação são traduzidos\n",
    "    para o código de máquina do computador no qual será executado em vez\n",
    "    de ser diretamente executado.\n",
    "    \n",
    "\n",
    "### Linguagem para código de máquina\n",
    "\n",
    "![Compiladores](../Figs/Compiladores.png)\n",
    "\n",
    "\n",
    "### Compilador\n",
    "\n",
    "O [compilador](https://pt.wikipedia.org/wiki/Compilador)\n",
    "\n",
    "-   é um programa que, a partir do código fonte numa dada linguagem,\n",
    "    gera um programa semanticamente equivalente porém escrito em outra\n",
    "    linguagem, o código objeto.\n",
    "\n",
    "-   é um dos dois tipos mais gerais de tradutores, sendo que o segundo\n",
    "    tipo são os interpretadores.\n",
    "\n",
    "-   classicamente, ele traduz um programa de uma linguagem textual\n",
    "    facilmente entendida por um ser humano para uma linguagem de\n",
    "    máquina, específica para um processador e sistema operacional.\n",
    "\n",
    "-   não é único. Há vários compiladores que geram código para uma máquina \n",
    "    virtual que é, depois, interpretada por um interpretador.\n",
    "    \n",
    "\n",
    "### Processo de Compilação\n",
    "\n",
    "-   É composto de análise e síntese. A análise tem como objetivo\n",
    "    entender o código fonte e representá-lo em uma estrutura\n",
    "    intermediária. A síntese constrói o código objeto a partir desta\n",
    "    representação intermediária.\n",
    "\n",
    "-   Neste momento podem surgir os erros de sintaxe da linguagem;\n",
    "\n",
    "-   Com as opções adequadas o compilador pode de fornecer avisos a\n",
    "    respeito da forma em que parte do seu código foi construída. Por\n",
    "    exemplo, ele pode avisar de variáveis declaradas mais não usadas.\n",
    "\n",
    "-   Há opções para realizar a depuração do código (“DEBUG”).\n",
    "\n",
    "\n",
    "### O Linker, o ligador\n",
    "\n",
    "-   Sua função é unir vários programas já compilados de uma forma\n",
    "    independente e unificá-los em um programa executável.\n",
    "\n",
    "-   Isso inclui colocar o programa final em um formato compatível com as\n",
    "    necessidades do sistema operacional para carregá-lo em memória e\n",
    "    colocá-lo em execução."
   ]
  },
  {
   "cell_type": "markdown",
   "metadata": {},
   "source": [
    "# Referências para a linguagem Fortran \n",
    "\n",
    "\n",
    "## Fortran Pages\n",
    "\n",
    "-   [Fortran Wiki:](http://fortranwiki.org/)\n",
    "\n",
    "-   [Fortran Standards:](http://www.nag.com/sc22wg5/)\n",
    "\n",
    "-   [The Fortran Company:](http://www.fortran.com/)\n",
    "\n",
    "-   [Fortran Wiki:](http://pt.wikipedia.org/wiki/Fortran)\n",
    "\n",
    "-   [Fortran Library:](http://www.fortranlib.com/)\n",
    "\n",
    "-   [The Home of Fortran Standards](https://wg5-fortran.org/)\n",
    "\n",
    "-   [Fortran 2003 - WikiBook](https://en.wikibooks.org/wiki/Fortran_2003)\n",
    "\n",
    "-   [Fortranplus](https://www.fortranplus.co.uk/)\n",
    "\n",
    "-   [BCS Fortran Specialist Group Website](http://www.fortran.bcs.org/index.php)\n",
    "\n",
    "-   [Fortran Standardization Activities 1972 - 2018](http://www.fortran.bcs.org/standards/stanhome.php)\n",
    "\n",
    "-   [GCC online documentation](https://gcc.gnu.org/onlinedocs/)\n",
    "\n",
    "-   [Welcome to GCC Wiki](https://gcc.gnu.org/wiki/HomePage)\n",
    "\n",
    "-   [Fortran Standards Documents](https://gcc.gnu.org/wiki/GFortranStandards)\n",
    "\n",
    "-   [Compiler Support for modern Fortran standards](http://fortranwiki.org/fortran/show/Compiler+Support+for+Modern+Fortran)\n",
    "\n",
    "-   [Compiler Support for the Fortran 2003 Standard](http://fortranwiki.org/fortran/show/Fortran+2003+status)\n",
    "\n",
    "-   [Compiler Support for the Fortran 2008 Standard](http://fortranwiki.org/fortran/show/Fortran+2008+status)\n",
    "\n",
    "\n",
    "## Fortran Tutoriais\n",
    "\n",
    "-   [Fortran 95 em Português:](http://ufpel.tche.br/~rudi/grad/ModComp/Apostila/Apostila.html)\n",
    "\n",
    "-   [A Fortran 90 Tutorial:](http://www.cisl.ucar.edu/tcg/consweb/Fortran90/F90Tutorial/tutorial.html)\n",
    "\n",
    "-   [Fortran 90 Tutorial:](http://www.cs.mtu.edu/~shene/COURSES/cs201/NOTES/fortran.html)\n",
    "\n",
    "-   [Introduction to Modern Fortran:](http://www-uxsup.csx.cam.ac.uk/courses/Fortran/)\n",
    "\n",
    "-   [FORTRAN Tutorial:](http://terpconnect.umd.edu/~nsw/ench250/fort-tut.htm)\n",
    "\n",
    "-   [Modular Programming with Fortran 90:](http://www.liv.ac.uk/HPC/HTMLF90Course/HTMLF90CourseSlides.html)\n",
    "\n",
    "## Fontes de Referências\n",
    "\n",
    "-   [Fortran Wiki](http://fortranwiki.org/fortran/show/HomePage)\n",
    "\n",
    "-   [The Fortran Company](https://www.fortran.com/)\n",
    "\n",
    "-   [Fortran Tutorial](http://www.w3ii.com/pt/fortran/default.html)\n",
    "\n",
    "-   [Fortran Tutorial](http://www.fortrantutorial.com/)\n",
    "\n",
    "-   [Fortran Tutorial](http://www.tutorialspoint.com/fortran/)\n",
    "\n",
    "-   [Numerical Recipes](http://numerical.recipes/)\n",
    "\n",
    "-   [Matrix Market](http://math.nist.gov/MatrixMarket/) Repositório de\n",
    "    bibliotecas matriciais.\n",
    "\n",
    "-   [Netlib Repository](http://www.netlib.org/) Repositório de\n",
    "    bibliotecas em diversas linguagens.\n",
    "\n",
    "## Compiladores FORTRAN 95, 2003 e 2008\n",
    "\n",
    "-   [GNU gfortran](http://gcc.gnu.org/fortran), compilador Fortran 95 da\n",
    "    GNU Project;\n",
    "\n",
    "-   [g95](http://www.g95.org/), compilador Fortran 95 desenvolvido de\n",
    "    forma independente por um grupo de programadores;\n",
    "\n",
    "-   [Intel Fortran Compiler for\n",
    "    Linux](https://software.intel.com/en-us/fortran-compilers/),\n",
    "    compilador desenvolvido pela Intel possui uma excelente performance\n",
    "    e, certamente, é um excelente compilador para a arquitetura Intel.\n",
    "\n",
    "-   [Absoft](http://www.fortran.com/products-page). Comercial\n",
    "\n",
    "-   [The Portland Group](http://www.pgroup.com/). Comercial\n",
    "\n",
    "-   [Compiladores\n",
    "    Fortran](https://www.thefreecountry.com/compilers/fortran.shtml)\n",
    "    \n",
    "-   [Online GDB - Compilador C/C++, Fortran,etc e Debugger GDB Online](https://www.onlinegdb.com/online_c_compiler) Excelente copliador online.\n",
    "\n",
    "-   [JDOODLE - Compilador C/C++, Fortran, etc online](https://www.jdoodle.com/c-online-compiler)\n",
    "\n",
    "-   [Rextester - Compilador C/C++, Fortran, etc online](http://rextester.com/l/fortran_online_compiler)\n",
    "\n",
    "-   [CodingGround -Compile and Execute FORTRAN-95 Online ](https://www.tutorialspoint.com/compile_fortran_online.php)\n",
    "\n",
    "-   [CODECHEF compilador Fortran online](https://www.codechef.com/ide)\n",
    "\n",
    "-   [Diversos Compiladores Online](http://www.compileonline.com/)\n",
    "\n",
    "-   A Linguagem F é um subconjunto do Fortran 90/95, desenvolvida sem\n",
    "    os recursos considerados obsoletos da linguagem Fortran.\n"
   ]
  },
  {
   "cell_type": "markdown",
   "metadata": {},
   "source": [
    "# Origens da Linguagem Fortran\n",
    "\n",
    "-   IBM Mathematical FORmula TRANslation System;\n",
    "\n",
    "-   Elaborado especificamente para aplicações científicas;\n",
    "\n",
    "-   Primeiro compilador considerado “High-Level” – Idealizado por John\n",
    "    Backus – 1957;\n",
    "\n",
    "-   Primeiro Padrão Comerciável em 1972: “Fortran 66”;\n",
    "\n",
    "    -   As diversas versões de compiladores, similares ao Fortran, na\n",
    "        década de 60, criou-se a necessidade de se padronizar o\n",
    "        software.\n",
    "\n",
    "-   Atualizado em 1980 – “Fortran 77”;\n",
    "\n",
    "    -   Versão amplamente divulgada e utilizada no mundo inteiro pelas\n",
    "        áreas científicas.\n",
    "\n",
    "-   Atualizado em 1991   12 anos – “Fortran 90”;\n",
    "\n",
    "    -   Seu planejamento iniciou-se no início da década de 80. O atraso\n",
    "        deveu-se ao compromisso de manter o Fortran como uma das\n",
    "        linguagens científicas mais eficientes, superior ao PASCAL, ADA\n",
    "        e ALGOL.\n",
    "\n",
    "    -   Os recursos existentes no Fortran 90 se equiparam aos existentes\n",
    "        no C (Alocação dinâmica de memória, apontadores e orientação ao\n",
    "        objeto).\n",
    "\n",
    "-   High Performance Fortran – HPF – Fortran 90 para ambientes com\n",
    "    memória distribuída;\n",
    "\n",
    "-   As últimas revisões: 95, 2003 e 2008;\n",
    "\n",
    "-   Padronizado por ANSI X3 e ISO/IEC JTC1/SC22/WG5."
   ]
  },
  {
   "cell_type": "markdown",
   "metadata": {},
   "source": [
    "## O Fortran 77\n",
    "\n",
    "Está muito obsoleto em relação às linguagens atuais, porém há um grande número de códigos escritos nessa linguagem. Suas principais características são:\n",
    "\n",
    "-   Formato fixo:\n",
    "\n",
    "    -   Comentários na primeira coluna, com os caracteres C ou \\*;\n",
    "\n",
    "    -   Colunas de 1 até 5 reservadas para numerar comandos;\n",
    "\n",
    "    -   A $6^{a}$ coluna é reservada para designar a continuação de\n",
    "        uma linha de comando;\n",
    "\n",
    "    -   Linhas de comandos das colunas 7 a 72.\n",
    "\n",
    "-   Impossibilidade de representar operações paralelas intrínsecas;\n",
    "\n",
    "-   Alocação dinâmica de memória não é implementada;\n",
    "\n",
    "    -   É necessário declarar os vetores com o maior tamanho possível\n",
    "        para reservar memória durante a compilação.\n",
    "\n",
    "-   Nomes com no máximo 6 caracteres;\n",
    "\n",
    "-   Não possui representação numérica portável;\n",
    "\n",
    "    -   A precisão de campos numéricos varia de uma máquina para outra,\n",
    "        tornando o código “não portável”.\n",
    "\n",
    "-   Não possui definição de tipo de dado pelo programador;\n",
    "\n",
    "    -   Não é possível criar novos formatos a partir dos existentes.\n",
    "\n",
    "-   Não possui recursão explícita;\n",
    "\n",
    "    -   Não é possível chamar uma função dentro de outra função."
   ]
  },
  {
   "cell_type": "markdown",
   "metadata": {},
   "source": [
    "## Exemplo: Código fixo, versão Fortran 77\n",
    "\n",
    "```Fortran\n",
    "C=======================================================================\n",
    "C23456789012345678901234567890123456789012345678901234567890123456789012\n",
    "C========1=========2=========3=========4=========5=========6=========7==\n",
    "      PROGRAM QUADRATIC\n",
    "C     FORTRAN Programs, by Salviano A. Leao\n",
    "C     This code gives tthe roots of a quadratic function:\n",
    "C     a*x**2+b*x + c = 0.\n",
    "C\n",
    "      IMPLICIT NONE\n",
    "      DOUBLE PRECISION a, b, c, tol, discriminant, root1, root2\n",
    "      COMPLEX(8) croot1, croot2, CI\n",
    "      PARAMETER(tol = 1.0D-10)      \n",
    "      PARAMETER(CI = (0.0D0,1.0D0))\n",
    "      \n",
    "      WRITE(*,*) \"Enter the coefficients of the equation ax^2 + bx + c\"\n",
    "      WRITE(*, \"(A)\", ADVANCE=\"NO\") \"a = \"\n",
    "      READ (*,*) a\n",
    "      WRITE(*,\"(A)\", ADVANCE=\"NO\") \"b = \"\n",
    "      READ (*,*) b\n",
    "      WRITE(*,\"(A)\", ADVANCE=\"NO\") \"c = \"\n",
    "      READ (*,*) c\n",
    "         \n",
    "      WRITE(*,10)\"Coefficients are: a = \", a, \"   b = \", b, \"   c = \", c\n",
    "10    FORMAT(3(A,E23.15))      \n",
    "\n",
    "      discriminant = b*b - 4.0D0*a*c\n",
    "\n",
    "      IF (DABS(discriminant) < tol) THEN\n",
    "         root1 = -b / (2.0D0 * a)\n",
    "         WRITE(*,*) \"The roots are real and equal:\"\n",
    "         WRITE(*,20) \"Root = \", root1\n",
    "20       FORMAT(A,E23.15)\n",
    "      ELSE IF (discriminant > 0) THEN\n",
    "         root1 = (-b + DSQRT(discriminant)) / (2.0D0 * a)\n",
    "         root2 = (-b - DSQRT(discriminant)) / (2.0D0 * a)\n",
    "         WRITE(*,*) \"The roots are real:\"\n",
    "         WRITE(*,30) \"Root1 = \", root1, \"  Root2 = \", root2\n",
    "30       FORMAT(2(A,E23.15,3x))\n",
    "      ELSE\n",
    "         croot1 = (-b + ci*DSQRT(-discriminant))/(2.0D0*a)\n",
    "         croot2 = DCONJG(croot1)\n",
    "         WRITE(*,*) \"The roots are complex:\" \n",
    "         WRITE(*,40) \"Root1 = \", croot1, \"j \", \"  Root2 = \", croot2, \"j\"\n",
    "40       FORMAT(2(A,2E23.15,A))\n",
    "      END IF\n",
    "      STOP\n",
    "      END\n",
    "```"
   ]
  },
  {
   "cell_type": "code",
   "execution_count": 1,
   "metadata": {
    "ExecuteTime": {
     "end_time": "2019-01-11T12:51:05.197195Z",
     "start_time": "2019-01-11T12:51:05.012066Z"
    }
   },
   "outputs": [],
   "source": [
    "!mkdir -p src"
   ]
  },
  {
   "cell_type": "code",
   "execution_count": 2,
   "metadata": {
    "ExecuteTime": {
     "end_time": "2019-01-11T12:51:11.110700Z",
     "start_time": "2019-01-11T12:51:10.922423Z"
    }
   },
   "outputs": [
    {
     "name": "stdout",
     "output_type": "stream",
     "text": [
      "Overwriting src/quadratic.for\n"
     ]
    }
   ],
   "source": [
    "%%writefile src/quadratic.for\n",
    "C=======================================================================\n",
    "C23456789012345678901234567890123456789012345678901234567890123456789012\n",
    "C========1=========2=========3=========4=========5=========6=========7==\n",
    "      PROGRAM QUADRATIC\n",
    "C     FORTRAN Programs, by Salviano A. Leao\n",
    "C     This code gives tthe roots of a quadratic function:\n",
    "C     a*x**2+b*x + c = 0.\n",
    "C\n",
    "      IMPLICIT NONE\n",
    "      DOUBLE PRECISION a, b, c, tol, discriminant, root1, root2\n",
    "      COMPLEX(8) croot1, croot2, CI\n",
    "      PARAMETER(tol = 1.0D-10)      \n",
    "      PARAMETER(CI = (0.0D0,1.0D0))\n",
    "      \n",
    "      WRITE(*,*) \"Enter the coefficients of the equation ax^2 + bx + c\"\n",
    "      WRITE(*, \"(A)\", ADVANCE=\"NO\") \"a = \"\n",
    "      READ (*,*) a\n",
    "      WRITE(*,\"(A)\", ADVANCE=\"NO\") \"b = \"\n",
    "      READ (*,*) b\n",
    "      WRITE(*,\"(A)\", ADVANCE=\"NO\") \"c = \"\n",
    "      READ (*,*) c\n",
    "         \n",
    "      WRITE(*,10)\"Coefficients are: a = \", a, \"   b = \", b, \"   c = \", c\n",
    "10    FORMAT(3(A,E23.15))      \n",
    "\n",
    "      discriminant = b*b - 4.0D0*a*c\n",
    "\n",
    "      IF (DABS(discriminant) < tol) THEN\n",
    "         root1 = -b / (2.0D0 * a)\n",
    "         WRITE(*,*) \"The roots are real and equal:\"\n",
    "         WRITE(*,20) \"Root = \", root1\n",
    "20       FORMAT(A,E23.15)\n",
    "      ELSE IF (discriminant > 0) THEN\n",
    "         root1 = (-b + DSQRT(discriminant)) / (2.0D0 * a)\n",
    "         root2 = (-b - DSQRT(discriminant)) / (2.0D0 * a)\n",
    "         WRITE(*,*) \"The roots are real:\"\n",
    "         WRITE(*,30) \"Root1 = \", root1, \"  Root2 = \", root2\n",
    "30       FORMAT(2(A,E23.15,3x))\n",
    "      ELSE\n",
    "         croot1 = (-b + ci*DSQRT(-discriminant))/(2.0D0*a)\n",
    "         croot2 = DCONJG(croot1)\n",
    "         WRITE(*,*) \"The roots are complex:\" \n",
    "         WRITE(*,40) \"Root1 = \", croot1, \"j \", \"  Root2 = \", croot2, \"j\"\n",
    "40       FORMAT(2(A,2E23.15,A))\n",
    "      END IF\n",
    "      STOP\n",
    "      END"
   ]
  },
  {
   "cell_type": "code",
   "execution_count": 3,
   "metadata": {
    "ExecuteTime": {
     "end_time": "2019-01-11T12:51:36.362111Z",
     "start_time": "2019-01-11T12:51:34.964035Z"
    }
   },
   "outputs": [],
   "source": [
    "# agora vamos compilar e rodar o código:\n",
    "! gfortran -o x src/quadratic.for"
   ]
  },
  {
   "cell_type": "code",
   "execution_count": 4,
   "metadata": {
    "ExecuteTime": {
     "end_time": "2019-01-11T12:51:47.511294Z",
     "start_time": "2019-01-11T12:51:47.299634Z"
    }
   },
   "outputs": [
    {
     "name": "stdout",
     "output_type": "stream",
     "text": [
      " Enter the coefficients of the equation ax^2 + bx + c\n",
      "a = b = c = Coefficients are: a =   0.100000000000000E+01   b =  -0.300000000000000E+01   c =   0.500000000000000E+01\n",
      " The roots are complex:\n",
      "Root1 =   0.150000000000000E+01  0.165831239517770E+01j   Root2 =   0.150000000000000E+01 -0.165831239517770E+01j\n"
     ]
    }
   ],
   "source": [
    "! echo \"1.0\\n -3.0\\n 5.0\" | ./x -"
   ]
  },
  {
   "cell_type": "markdown",
   "metadata": {},
   "source": [
    "## O Fortran 90, 95, 2003 e 2008\n",
    "\n",
    "-   Formato livre:\n",
    "\n",
    "    -   132 caracteres por linha;\n",
    "\n",
    "    -   Maiúsculas e minúsculas;\n",
    "\n",
    "    -   Nomes até 31 caracteres;\n",
    "\n",
    "    -   O programa pode ser escrito em qualquer posição\n",
    "\n",
    "    -   A continuação de uma linha é indicadas pelo símbolo `&` no fim, e\n",
    "        ou no início da próxima linha;\n",
    "\n",
    "    -   Deixe sempre um espaço entre os comandos e o símbolo de\n",
    "        continuação\n",
    "\n",
    "    -   É permitida a inserção de comentários após o `&`.\n",
    "\n",
    "    -   Os rótulos devem ser os primeiros caracteres da linha;\n",
    "\n",
    "-   Um grande número de funções matemáticas intrínsecas;\n",
    "\n",
    "-   O comentário em qualquer parte do programa;\n",
    "\n",
    "-   Alocação de memória dinâmica e ponteiros;\n",
    "\n",
    "-   Definição de tipo de dados (Comando );\n",
    "\n",
    "-   A declaração ;\n",
    "\n",
    "-   Recursividade;\n",
    "\n",
    "-   Novas funções intrínsecas.\n",
    "\n",
    "-   As operações com matrizes;"
   ]
  },
  {
   "cell_type": "markdown",
   "metadata": {},
   "source": [
    "## Exemplo: Código livre, versão Fortran 90/2003\n",
    "\n",
    "```Fortran\n",
    "PROGRAM QUADRATIC\n",
    "! FORTRAN Program by Salviano A. Leao\n",
    "! This code gives the roots of a quadratic function:\n",
    "! a*x**2+b*x + c = 0.\n",
    "!\n",
    "  IMPLICIT NONE\n",
    "  INTEGER, PARAMETER     :: dp = SELECTED_REAL_KIND(12, 100)\n",
    "  REAL(dp)               :: a, b, c, discriminant, root1, root2\n",
    "  COMPLEX(dp)            :: croot1, croot2\n",
    "  REAL(dp), PARAMETER    :: tol = 1.0-10_dp    \n",
    "  COMPLEX(dp), PARAMETER :: CI = (0.0_dp,1.0_dp)\n",
    "      \n",
    "  WRITE(*,*) \"Enter the coefficients of the equation ax^2 + bx + c\"\n",
    "  WRITE(*, \"(A)\", ADVANCE=\"NO\") \"a = \"\n",
    "  READ (*,*) a\n",
    "  WRITE(*,\"(A)\", ADVANCE=\"NO\") \"b = \"\n",
    "  READ (*,*) b\n",
    "  WRITE(*,\"(A)\", ADVANCE=\"NO\") \"c = \"\n",
    "  READ (*,*) c\n",
    "     \n",
    "  WRITE(*,\"(3(A,E23.15))\")\"Coefficients are: a = \", a, \"   b = \", b, \"   c = \", c\n",
    "\n",
    "  discriminant = b*b - 4.0_dp*a*c\n",
    "\n",
    "  IF (ABS(discriminant) < tol) THEN\n",
    "     root1 = -b / (2.0_dp * a)\n",
    "     WRITE(*,*) \"The roots are real and equal:\"\n",
    "     WRITE(*,\"(A,E23.15)\") \"Root = \", root1\n",
    "  ELSE IF (discriminant > 0) THEN\n",
    "     root1 = (-b + SQRT(discriminant)) / (2.0_dp * a)\n",
    "     root2 = (-b - SQRT(discriminant)) / (2.0_dp * a)\n",
    "     WRITE(*,*) \"The roots are real:\"\n",
    "     WRITE(*,\"(2(A,E23.15,3x))\") \"Root1 = \", root1, \"  Root2 = \", root2\n",
    "  ELSE\n",
    "     croot1 = (-b + ci*SQRT(-discriminant))/(2.0_dp*a)\n",
    "     croot2 = CONJG(croot1)\n",
    "     WRITE(*,*) \"The roots are complex:\" \n",
    "     WRITE(*,\"(2(A,2E23.15,A))\") \"Root1 = \", croot1, \"j \", \"  Root2 = \", croot2, \"j\"\n",
    "  END IF\n",
    "  STOP\n",
    "END PROGRAM QUADRATIC\n",
    "```"
   ]
  },
  {
   "cell_type": "code",
   "execution_count": 5,
   "metadata": {
    "ExecuteTime": {
     "end_time": "2019-01-11T12:52:23.521176Z",
     "start_time": "2019-01-11T12:52:23.499512Z"
    }
   },
   "outputs": [
    {
     "name": "stdout",
     "output_type": "stream",
     "text": [
      "Overwriting src/quadratic.f90\n"
     ]
    }
   ],
   "source": [
    "%%writefile src/quadratic.f90\n",
    "PROGRAM QUADRATIC\n",
    "! FORTRAN Program by Salviano A. Leao\n",
    "! This code gives the root's of a quadratic function:\n",
    "! a*x**2+b*x + c = 0.\n",
    "!\n",
    "  IMPLICIT NONE\n",
    "  INTEGER, PARAMETER     :: dp = SELECTED_REAL_KIND(12, 100)\n",
    "  REAL(dp)               :: a, b, c, discriminant, root1, root2\n",
    "  COMPLEX(dp)            :: croot1, croot2\n",
    "  REAL(dp), PARAMETER    :: tol = 1.0-10_dp    \n",
    "  COMPLEX(dp), PARAMETER :: CI = (0.0_dp,1.0_dp)\n",
    "      \n",
    "  WRITE(*,*) \"Enter the coefficients of the equation ax^2 + bx + c\"\n",
    "  WRITE(*, \"(A)\", ADVANCE=\"NO\") \"a = \"\n",
    "  READ (*,*) a\n",
    "  WRITE(*,\"(A)\", ADVANCE=\"NO\") \"b = \"\n",
    "  READ (*,*) b\n",
    "  WRITE(*,\"(A)\", ADVANCE=\"NO\") \"c = \"\n",
    "  READ (*,*) c\n",
    "     \n",
    "  WRITE(*,\"(3(A,E23.15))\")\"Coefficients are: a = \", a, \"   b = \", b, \"   c = \", c\n",
    "\n",
    "  discriminant = b*b - 4.0_dp*a*c\n",
    "\n",
    "  IF (ABS(discriminant) < tol) THEN\n",
    "     root1 = -b / (2.0_dp * a)\n",
    "     WRITE(*,*) \"The roots are real and equal:\"\n",
    "     WRITE(*,\"(A,E23.15)\") \"Root = \", root1\n",
    "  ELSE IF (discriminant > 0) THEN\n",
    "     root1 = (-b + SQRT(discriminant)) / (2.0_dp * a)\n",
    "     root2 = (-b - SQRT(discriminant)) / (2.0_dp * a)\n",
    "     WRITE(*,*) \"The roots are real:\"\n",
    "     WRITE(*,\"(2(A,E23.15,3x))\") \"Root1 = \", root1, \"  Root2 = \", root2\n",
    "  ELSE\n",
    "     croot1 = (-b + ci*SQRT(-discriminant))/(2.0_dp*a)\n",
    "     croot2 = CONJG(croot1)\n",
    "     WRITE(*,*) \"The roots are complex:\" \n",
    "     WRITE(*,\"(2(A,2E23.15,A))\") \"Root1 = \", croot1, \"j \", \"  Root2 = \", croot2, \"j\"\n",
    "  END IF\n",
    "  STOP\n",
    "END PROGRAM QUADRATIC"
   ]
  },
  {
   "cell_type": "code",
   "execution_count": 6,
   "metadata": {
    "ExecuteTime": {
     "end_time": "2019-01-11T12:52:26.235460Z",
     "start_time": "2019-01-11T12:52:26.051174Z"
    }
   },
   "outputs": [],
   "source": [
    "# agora vamos compilar e rodar o código:\n",
    "! gfortran -o x src/quadratic.f90"
   ]
  },
  {
   "cell_type": "code",
   "execution_count": 7,
   "metadata": {
    "ExecuteTime": {
     "end_time": "2019-01-11T12:52:28.625826Z",
     "start_time": "2019-01-11T12:52:28.509371Z"
    }
   },
   "outputs": [
    {
     "name": "stdout",
     "output_type": "stream",
     "text": [
      " Enter the coefficients of the equation ax^2 + bx + c\r\n",
      "a = b = c = Coefficients are: a =   0.100000000000000E+01   b =  -0.300000000000000E+01   c =   0.500000000000000E+01\r\n",
      " The roots are complex:\r\n",
      "Root1 =   0.150000000000000E+01  0.165831239517770E+01j   Root2 =   0.150000000000000E+01 -0.165831239517770E+01j\r\n"
     ]
    }
   ],
   "source": [
    "! echo \"1.0\\n -3.0\\n 5.0\" | ./x -"
   ]
  },
  {
   "cell_type": "markdown",
   "metadata": {},
   "source": [
    "## Primeiro programa Fortran 95/2003/2008\n",
    "\n",
    "A seguir iremos apresentar o programa tradicional, o hello.f90, o qual mostra somente uma mensagem de boas vindas na tela. Nesse pequeno código contém a estrutura fundamental de um código Fortran, o `program name` e o  `end program name`, aqui `name` é o mome que se dá ao código e ele não deve conter espaços e caracteres epeciais. A outra instrução que surge é o `print`. "
   ]
  },
  {
   "cell_type": "code",
   "execution_count": 5,
   "metadata": {
    "ExecuteTime": {
     "end_time": "2019-01-09T12:09:43.252065Z",
     "start_time": "2019-01-09T12:09:43.244738Z"
    }
   },
   "outputs": [
    {
     "name": "stdout",
     "output_type": "stream",
     "text": [
      "Overwriting src/hello.f90\n"
     ]
    }
   ],
   "source": [
    "%%writefile src/hello.f90\n",
    "PROGRAM hello\n",
    "  print *, \"Hello world!\"\n",
    "END PROGRAM hello"
   ]
  },
  {
   "cell_type": "code",
   "execution_count": 6,
   "metadata": {
    "ExecuteTime": {
     "end_time": "2019-01-09T12:09:44.392716Z",
     "start_time": "2019-01-09T12:09:44.228456Z"
    }
   },
   "outputs": [],
   "source": [
    "# A seguir vamos compilar o programa, gerando um executável chamado Ola\n",
    "! gfortran -o Ola src/hello.f90"
   ]
  },
  {
   "cell_type": "code",
   "execution_count": 7,
   "metadata": {
    "ExecuteTime": {
     "end_time": "2019-01-09T12:09:45.330718Z",
     "start_time": "2019-01-09T12:09:45.109385Z"
    }
   },
   "outputs": [
    {
     "name": "stdout",
     "output_type": "stream",
     "text": [
      " Hello world!\r\n"
     ]
    }
   ],
   "source": [
    "# Agora iremos rodar o programa\n",
    "! ./Ola\n",
    "# Agora vamos apagar o execuável\n",
    "! rm -f Ola"
   ]
  },
  {
   "cell_type": "markdown",
   "metadata": {},
   "source": [
    "A seguir mostramos um programa, um pouco mais elaborado, o qual imprime uma mensagem e alguns valores. Ele usa duas formas diferentes. Uma com a instrução `print` e outra com a instrução `write`. "
   ]
  },
  {
   "cell_type": "code",
   "execution_count": 9,
   "metadata": {
    "ExecuteTime": {
     "end_time": "2019-01-05T19:07:03.523770Z",
     "start_time": "2019-01-05T19:07:03.490074Z"
    }
   },
   "outputs": [
    {
     "name": "stdout",
     "output_type": "stream",
     "text": [
      "Writing src/mensagem_01.f95\n"
     ]
    }
   ],
   "source": [
    "%%writefile src/mensagem_01.f95\n",
    "PROGRAM primeiro\n",
    "  IMPLICIT NONE\n",
    "  REAL    :: a=3.2, b\n",
    "  INTEGER :: k=10\n",
    "  COMPLEX :: i=(0.0,1.0)\n",
    "  CHARACTER(len=50) :: mensagem='Ola mundo'\n",
    "  WRITE(*,*)\" Este eh o meu primeiro programa fortran\"\n",
    "  PRINT*, 'a = ', a, 'k = ', k, ' e i = ', i\n",
    "  b = a*k\n",
    "  write(*,*) \"b = \", b    ! Note que o fortran não difere maiúsculas de minúsculas\n",
    "  PRINT*, mensagem\n",
    "  STOP\n",
    "END PROGRAM primeiro"
   ]
  },
  {
   "cell_type": "code",
   "execution_count": 17,
   "metadata": {
    "ExecuteTime": {
     "end_time": "2019-01-05T19:12:24.532475Z",
     "start_time": "2019-01-05T19:12:24.349718Z"
    }
   },
   "outputs": [],
   "source": [
    "# A seguir vamos compilar o programa\n",
    "! gfortran -o x src/mensagem_01.f95"
   ]
  },
  {
   "cell_type": "code",
   "execution_count": 18,
   "metadata": {
    "ExecuteTime": {
     "end_time": "2019-01-05T19:12:26.991171Z",
     "start_time": "2019-01-05T19:12:26.878814Z"
    }
   },
   "outputs": [
    {
     "name": "stdout",
     "output_type": "stream",
     "text": [
      "  Este eh o meu primeiro programa fortran\r\n",
      " a =    3.20000005     k =           10  e i =              (0.00000000,1.00000000)\r\n",
      " b =    32.0000000    \r\n",
      " Ola mundo                                         \r\n"
     ]
    }
   ],
   "source": [
    "# A seguir vamos rodar o programa. O executável gerado é o x\n",
    "!./x"
   ]
  },
  {
   "cell_type": "markdown",
   "metadata": {},
   "source": [
    "# O compilador GNU Fortran\n",
    "\n",
    "Seu desenvolvimento teve início em 2000, e contínua a ser desenvolvido. Atualmente ele suporta boa parte das características do Fortran 77, 90, 95 e algumas do 2003 e 2008. Ele deve se chamado com um comando da forma\n",
    "\n",
    "```bash\n",
    "> gfortran [opcoes] arquivo-fortran\n",
    "> f95 [opcoes] arquivo-fortran\n",
    "\\end{code}\n",
    "```\n",
    "muitas das [opcoes] são comuns ao compilador `gcc`, por exemplo para compilar o arquivo “`hello.f90`” fazemos\n",
    "\n",
    "```bash \n",
    "> gfortran -o ola hello.f90\n",
    "```\n",
    "\n",
    "a opção \"`-o`\" diz ao compilador que o nome do executável será “`ola`”.\n",
    "\n",
    "## Compilando e rodando\n",
    "\n",
    "```bash \n",
    "> gfortran -o rodar mensagem_01.f95\n",
    "> ./rodar\n",
    "\n",
    "  Este eh o meu primeiro programa fortran\n",
    " a =    3.20000005     k =           10  e i =  (  0.00000000    ,  1.00000000    )\n",
    " b =    32.0000000\n",
    " Ola mundo\n",
    "```\n",
    "\n",
    "### O compilador GNU gfortran\n",
    "\n",
    "Em geral nas distribuições Gnu/Linux baseadas na distribuição Debian, como o Ubuntu e seus variantes, ao instalar os compiladores GNU cria-se um link para cada um:\n",
    "\n",
    "```bash \n",
    "> ls -alh /usr/bin/f95\n",
    "lrwxrwxrwx 1 root root 21 Abr 25  2016 /usr/bin/f95 -> /etc/alternatives/f95\n",
    "> ls -alh /etc/alternatives/f95\n",
    "lrwxrwxrwx 1 root root 17 Abr 25  2016 /etc/alternatives/f95 -> /usr/bin/gfortran\n",
    "```\n",
    "Logo o `/usr/bin/f95` é um link para o `/etc/alternatives/f95`, que por sua vez é um link para o /usr/bin/gfortran. O mesmo ocorre com os compiladores c e c++, respectivamente gcc e g++.\n",
    "\n",
    "É possivel ter mais de uma versão do mesmo compilador instalada, observe que:\n",
    "\n",
    "```bash\n",
    "salviano@phonon ~ $ ls -alh /usr/bin/gfortran*\n",
    "lrwxrwxrwx 1 root root 10 set 17 04:07 /usr/bin/gfortran -> gfortran-7\n",
    "lrwxrwxrwx 1 root root 27 jul 26 09:25 /usr/bin/gfortran-7 -> x86_64-linux-gnu-gfortran-7\n",
    "lrwxrwxrwx 1 root root 27 jul 28 03:13 /usr/bin/gfortran-8 -> x86_64-linux-gnu-gfortran-8\n",
    "```\n",
    "\n",
    "Nos Linux baseados no Debian que usam o `apt`, pode ser ver o que está instalado com o seguinte comando:\n",
    "\n",
    "```bash\n",
    "salviano@phonon ~ $ apt search \"^gfortran-[0-9]$\"\n",
    "p   gfortran-5                    - GNU Fortran compiler\n",
    "p   gfortran-5:i386               - GNU Fortran compiler\n",
    "p   gfortran-6                    - GNU Fortran compiler\n",
    "p   gfortran-6:i386               - GNU Fortran compiler\n",
    "i A gfortran-7                    - GNU Fortran compiler\n",
    "p   gfortran-7:i386               - GNU Fortran compiler\n",
    "i   gfortran-8                    - GNU Fortran compiler\n",
    "p   gfortran-8:i386               - GNU Fortran compiler\n",
    "```\n",
    "Nesse momento estão instaladas as versões 7 e 8 do gfortran. Vejamos"
   ]
  },
  {
   "cell_type": "code",
   "execution_count": 20,
   "metadata": {
    "ExecuteTime": {
     "end_time": "2019-01-05T19:28:44.541981Z",
     "start_time": "2019-01-05T19:28:44.430766Z"
    }
   },
   "outputs": [
    {
     "name": "stdout",
     "output_type": "stream",
     "text": [
      "GNU Fortran (Ubuntu 7.3.0-27ubuntu1~18.04) 7.3.0\r\n",
      "Copyright (C) 2017 Free Software Foundation, Inc.\r\n",
      "This is free software; see the source for copying conditions.  There is NO\r\n",
      "warranty; not even for MERCHANTABILITY or FITNESS FOR A PARTICULAR PURPOSE.\r\n",
      "\r\n"
     ]
    }
   ],
   "source": [
    "! gfortran-7 --version"
   ]
  },
  {
   "cell_type": "code",
   "execution_count": 21,
   "metadata": {
    "ExecuteTime": {
     "end_time": "2019-01-05T19:28:53.148722Z",
     "start_time": "2019-01-05T19:28:53.037550Z"
    }
   },
   "outputs": [
    {
     "name": "stdout",
     "output_type": "stream",
     "text": [
      "GNU Fortran (Ubuntu 8.2.0-1ubuntu2~18.04) 8.2.0\r\n",
      "Copyright (C) 2018 Free Software Foundation, Inc.\r\n",
      "This is free software; see the source for copying conditions.  There is NO\r\n",
      "warranty; not even for MERCHANTABILITY or FITNESS FOR A PARTICULAR PURPOSE.\r\n",
      "\r\n"
     ]
    }
   ],
   "source": [
    "! gfortran-8 --version"
   ]
  },
  {
   "cell_type": "markdown",
   "metadata": {},
   "source": [
    "## Um programa de boas vindas\n",
    "\n",
    "Uma mensagem de boas vindas"
   ]
  },
  {
   "cell_type": "code",
   "execution_count": 22,
   "metadata": {
    "ExecuteTime": {
     "end_time": "2019-01-05T19:29:58.191473Z",
     "start_time": "2019-01-05T19:29:58.178018Z"
    }
   },
   "outputs": [
    {
     "name": "stdout",
     "output_type": "stream",
     "text": [
      "Overwriting src/Primeiro.f95\n"
     ]
    }
   ],
   "source": [
    "%%writefile src/Primeiro.f95\n",
    "! Esse é um comentário\n",
    "PROGRAM primeiro\n",
    "  IMPLICIT NONE\n",
    "  PRINT *, 'Olá mundo da programação:'\n",
    "  WRITE(*,*)\" Este é o meu primeiro programa fortran\"\n",
    "  STOP\n",
    "END PROGRAM primeiro"
   ]
  },
  {
   "cell_type": "code",
   "execution_count": 5,
   "metadata": {
    "ExecuteTime": {
     "end_time": "2019-01-03T14:01:48.232393Z",
     "start_time": "2019-01-03T14:01:48.053771Z"
    }
   },
   "outputs": [],
   "source": [
    "# Compilando o programa\n",
    "!f95 -o x  src/Primeiro.f95"
   ]
  },
  {
   "cell_type": "code",
   "execution_count": 6,
   "metadata": {
    "ExecuteTime": {
     "end_time": "2019-01-03T14:01:50.644600Z",
     "start_time": "2019-01-03T14:01:50.534681Z"
    }
   },
   "outputs": [
    {
     "name": "stdout",
     "output_type": "stream",
     "text": [
      " Olá mundo da programação:\r\n",
      "  Este é o meu primeiro programa fortran\r\n"
     ]
    }
   ],
   "source": [
    "# Rodando o programa\n",
    "!./x"
   ]
  },
  {
   "cell_type": "code",
   "execution_count": 23,
   "metadata": {
    "ExecuteTime": {
     "end_time": "2019-01-05T19:30:21.958040Z",
     "start_time": "2019-01-05T19:30:21.926834Z"
    }
   },
   "outputs": [
    {
     "name": "stdout",
     "output_type": "stream",
     "text": [
      "Overwriting src/Primeiro_erro.f95\n"
     ]
    }
   ],
   "source": [
    "%%writefile src/Primeiro_erro.f95\n",
    "! Aqui temos um código com erro:\n",
    "! Esse é um comentário\n",
    "PROGRAM OlaMundo\n",
    "  IMPLICIT NONE\n",
    "  PRINT *, 'Olá mundo da programação:'\n",
    "  PRINT *, \"Este é o meu primeiro programa fortran\"\n",
    "  STOP\n",
    "END PROGRAM primeiro"
   ]
  },
  {
   "cell_type": "code",
   "execution_count": 24,
   "metadata": {
    "ExecuteTime": {
     "end_time": "2019-01-05T19:30:24.697954Z",
     "start_time": "2019-01-05T19:30:24.572662Z"
    }
   },
   "outputs": [
    {
     "name": "stdout",
     "output_type": "stream",
     "text": [
      "\u001b[01m\u001b[KFortran/Primeiro_erro.f95:8:20:\u001b[m\u001b[K\r\n",
      "\r\n",
      " END PROGRAM primeiro\r\n",
      "                    \u001b[01;31m\u001b[K1\u001b[m\u001b[K\r\n",
      "\u001b[01;31m\u001b[KError:\u001b[m\u001b[K Expected label ‘\u001b[01m\u001b[Kolamundo\u001b[m\u001b[K’ for END PROGRAM statement at (1)\r\n",
      "\u001b[01m\u001b[Kf951:\u001b[m\u001b[K \u001b[01;31m\u001b[KError:\u001b[m\u001b[K Unexpected end of file in ‘\u001b[01m\u001b[KFortran/Primeiro_erro.f95\u001b[m\u001b[K’\r\n"
     ]
    }
   ],
   "source": [
    "# Compilando o programa\n",
    "!f95 -o x src/Primeiro_erro.f95"
   ]
  },
  {
   "cell_type": "code",
   "execution_count": 25,
   "metadata": {
    "ExecuteTime": {
     "end_time": "2019-01-05T19:31:17.996826Z",
     "start_time": "2019-01-05T19:31:17.967250Z"
    }
   },
   "outputs": [
    {
     "name": "stdout",
     "output_type": "stream",
     "text": [
      "Overwriting src/Primeiro_c.f95\n"
     ]
    }
   ],
   "source": [
    "%%writefile src/Primeiro_c.f95\n",
    "! Esse é um comentário\n",
    "PROGRAM OlaMundo\n",
    "  PRINT *, 'Olá mundo da programação:'\n",
    "  PRINT *, \"Este é o meu primeiro programa fortran\"\n",
    "  STOP\n",
    "END PROGRAM OlaMundo"
   ]
  },
  {
   "cell_type": "code",
   "execution_count": 26,
   "metadata": {
    "ExecuteTime": {
     "end_time": "2019-01-05T19:31:19.203754Z",
     "start_time": "2019-01-05T19:31:19.034754Z"
    }
   },
   "outputs": [],
   "source": [
    "#Compilando o programa\n",
    "! f95 -o x src/Primeiro_c.f95"
   ]
  },
  {
   "cell_type": "code",
   "execution_count": 27,
   "metadata": {
    "ExecuteTime": {
     "end_time": "2019-01-05T19:31:20.126172Z",
     "start_time": "2019-01-05T19:31:20.013948Z"
    }
   },
   "outputs": [
    {
     "name": "stdout",
     "output_type": "stream",
     "text": [
      " Olá mundo da programação:\r\n",
      " Este é o meu primeiro programa fortran\r\n"
     ]
    }
   ],
   "source": [
    "# Rodando o programa\n",
    "!./x"
   ]
  },
  {
   "cell_type": "markdown",
   "metadata": {},
   "source": [
    "## Compilando programas fortran\n",
    "\n",
    "Vimos acima como compilar um código usando o compliador gfortran da GNU. Para maiores detalhes você deve invocar o compilador com a seguinte opção:\n",
    "\n",
    "```bash\n",
    "> gfortran --help\n",
    "```\n",
    "\n",
    "e ele irá fornecer uma lista completa de opções de compilação. Para mairores detalhes consulte os manuais do próprio compilador da GNU no site:  [GCC online documentation](https://gcc.gnu.org/onlinedocs/), o qual contém o manual de todas as versões dos compiladores GNU.\n",
    "\n",
    "### Compilando em conformidade com a versão do fortran\n",
    "\n",
    "Atualmente há diveras empresas que desenvolvem compiladores fortran, e há diversas versões dos compiladores GNU que implementam aos poucos as algumasfuncionalidades das diversas versões do Fortran. Sempre que for compilar um código é bom especificar qual o padrão da lingugem o código está usando.\n",
    "\n",
    "Aqui iremos nos restrigir ao compilador gfortran da GNU. Para esse compilador, a opção ` -std = std` específica uma da várias versões do fortran no qual o código foi escrito. Ela especifica o padrão para o qual o programa deve estar em conformidade, que pode ser um dos seguintes: `f95`, `f2003`, `f2008`, `f2018`, `gnu` ou `legacy`. O valor padrão para `std` é `gnu`, que especifica um superconjunto do padrão mais recente do Fortran que inclui todas as extensões suportadas pelo GNU Fortran, embora avisos sejam dados para extensões obsoletas não recomendadas para uso em novos códigos. O valor herdado é equivalente, mas sem os avisos para extensões obsoletas, e pode ser útil para programas não-padrão antigos. Os valores `f95`, `f2003`, `f2008` e `f2018` especificam conformidade estrita aos padrões Fortran 95, Fortran 2003, Fortran 2008 e Fortran 2018, respectivamente; erros são dados para todas as extensões além do padrão da liguagem  relevante, e avisos são dados para os recursos do Fortran 77 que são permitidos mas obsoletos em padrões posteriores. A opção `-std = f2008ts` permite a norma Fortran 2008 incluindo as adições da Especificação Técnica (TS) 29113 em Interoperabilidade Adicional do Fortran com o C e TS 18508 em Recursos Paralelos Adicionais no Fortran.\n",
    "\n",
    "\n",
    "Os padrões atuais do fortran são:\n",
    "\n",
    "- `-std=f95`\n",
    "\n",
    "- `-std=f2003`\n",
    "\n",
    "- `-std=f2008`\n",
    "\n",
    "- `-std=f2008ts`\n",
    "\n",
    "- `-std=f2018`\n",
    "\n",
    "- `-std=gnu`\n",
    "\n",
    "- `-std=legacy`\n",
    "\n",
    "Para maiores detalhes [consulte o manual](https://gcc.gnu.org/) e a [wiki](https://pt.wikipedia.org/wiki/GNU_Compiler_Collection) ou a [versão em inglês](https://en.wikipedia.org/wiki/GNU_Compiler_Collection).\n",
    "\n",
    "```bash\n",
    "> f95 -std=f95 -Wpedantic -o Nome_do_Executavel Nome.f95 \n",
    ">./Nome_do_Executavel\n",
    "```"
   ]
  },
  {
   "cell_type": "markdown",
   "metadata": {},
   "source": [
    "### Compilando e o rodando o HelloWorl.f95\n",
    "\n",
    "Para compilar e rodar o programa proceda assim\n",
    "```bash\n",
    "> f95 -std=f2008 -Wpedantic -o Ola HelloWorld.f95 \n",
    "```\n",
    "Para rodar faça\n",
    "```bash\n",
    "> ./Ola\n",
    "Olá mundo da programação:\n",
    "Este é o meu primeiro programa fortran\n",
    "```"
   ]
  },
  {
   "cell_type": "code",
   "execution_count": 1,
   "metadata": {
    "ExecuteTime": {
     "end_time": "2019-01-06T12:54:04.482087Z",
     "start_time": "2019-01-06T12:54:04.454272Z"
    }
   },
   "outputs": [
    {
     "name": "stdout",
     "output_type": "stream",
     "text": [
      "Overwriting src/HelloWorld.f95\n"
     ]
    }
   ],
   "source": [
    "%%writefile src/HelloWorld.f95\n",
    "! Esse é um comentário\n",
    "PROGRAM primeiro\n",
    "  IMPLICIT NONE\n",
    "  PRINT *, 'Olá mundo da programação:'\n",
    "  WRITE(*,*)\" Este é o meu primeiro programa fortran\"\n",
    "  STOP\n",
    "END PROGRAM primeiro"
   ]
  },
  {
   "cell_type": "code",
   "execution_count": 2,
   "metadata": {
    "ExecuteTime": {
     "end_time": "2019-01-06T12:54:06.673785Z",
     "start_time": "2019-01-06T12:54:05.609026Z"
    }
   },
   "outputs": [],
   "source": [
    "#Compilando o programa\n",
    "! f95 -std=f2008 -Wpedantic -o Ola src/HelloWorld.f95"
   ]
  },
  {
   "cell_type": "code",
   "execution_count": 3,
   "metadata": {
    "ExecuteTime": {
     "end_time": "2019-01-06T12:54:08.120280Z",
     "start_time": "2019-01-06T12:54:07.977591Z"
    }
   },
   "outputs": [
    {
     "name": "stdout",
     "output_type": "stream",
     "text": [
      " Olá mundo da programação:\r\n",
      "  Este é o meu primeiro programa fortran\r\n"
     ]
    }
   ],
   "source": [
    "# Rodando o programa\n",
    "!./Ola"
   ]
  },
  {
   "cell_type": "code",
   "execution_count": 4,
   "metadata": {
    "ExecuteTime": {
     "end_time": "2019-01-06T12:54:09.220899Z",
     "start_time": "2019-01-06T12:54:09.107896Z"
    }
   },
   "outputs": [],
   "source": [
    "# A seguir vamos remover o arquivo executável gerado\n",
    "! rm -f ./Ola"
   ]
  },
  {
   "cell_type": "markdown",
   "metadata": {},
   "source": [
    "## Segundo Programa"
   ]
  },
  {
   "cell_type": "code",
   "execution_count": 5,
   "metadata": {
    "ExecuteTime": {
     "end_time": "2019-01-06T12:54:17.638782Z",
     "start_time": "2019-01-06T12:54:17.610077Z"
    }
   },
   "outputs": [
    {
     "name": "stdout",
     "output_type": "stream",
     "text": [
      "Overwriting src/Segundo.f95\n"
     ]
    }
   ],
   "source": [
    "%%writefile src/Segundo.f95\n",
    "PROGRAM segundo\n",
    "  IMPLICIT NONE\n",
    "  INTEGER :: i, j  ! Declara i e j como variáveis inteiras\n",
    "  PRINT *, \"Você sabe escrever e ler?\"\n",
    "  READ *, i, j     ! Lê as variáveis i e j\n",
    "  WRITE(*,*) \"I = \", i, \"e j = \", j\n",
    "END PROGRAM segundo"
   ]
  },
  {
   "cell_type": "code",
   "execution_count": 6,
   "metadata": {
    "ExecuteTime": {
     "end_time": "2019-01-06T12:54:21.955178Z",
     "start_time": "2019-01-06T12:54:21.732673Z"
    }
   },
   "outputs": [],
   "source": [
    "#Compilando o programa\n",
    "! f95 -o x -std=f2008 -Wpedantic src/Segundo.f95"
   ]
  },
  {
   "cell_type": "code",
   "execution_count": 7,
   "metadata": {
    "ExecuteTime": {
     "end_time": "2019-01-06T12:54:23.135523Z",
     "start_time": "2019-01-06T12:54:23.021533Z"
    }
   },
   "outputs": [
    {
     "name": "stdout",
     "output_type": "stream",
     "text": [
      " Você sabe escrever e ler?\r\n",
      " I =            1 e j =            8\r\n"
     ]
    }
   ],
   "source": [
    "# Rodando o  programa\n",
    "!echo \"1 8\" | ./x -"
   ]
  },
  {
   "cell_type": "markdown",
   "metadata": {},
   "source": [
    "para compilar o program a acima faça:\n",
    "\n",
    "```bash\n",
    " > gfortran -std=f2008 -Wpedantic -o segundo segundo.f95\n",
    " > ./segundo\n",
    "Você sabe escrever e ler?\n",
    "1 2\n",
    "i =  1 e j =  2\n",
    ">\n",
    "```"
   ]
  },
  {
   "cell_type": "code",
   "execution_count": 2,
   "metadata": {
    "ExecuteTime": {
     "end_time": "2019-02-08T12:25:39.730842Z",
     "start_time": "2019-02-08T12:25:39.725952Z"
    }
   },
   "outputs": [
    {
     "name": "stdout",
     "output_type": "stream",
     "text": [
      "Overwriting src/Terceiro.f95\n"
     ]
    }
   ],
   "source": [
    "%%writefile src/Terceiro.f95\n",
    "PROGRAM segundo\n",
    "  IMPLICIT NONE\n",
    "  INTEGER :: i, j  ! Declara i e j como variáveis inteiras\n",
    "  PRINT *, \"Você sabe escrever e ler?\"\n",
    "  ! Vamos ler uma variável por linha \n",
    "  READ *, i     ! Lê a variável i\n",
    "  READ *, j     ! Lê a variável j\n",
    "  WRITE(*,*) \"O par (I,J) = (\", i, \",\", j, \")\"\n",
    "END PROGRAM segundo"
   ]
  },
  {
   "cell_type": "code",
   "execution_count": 3,
   "metadata": {
    "ExecuteTime": {
     "end_time": "2019-02-08T12:26:00.885609Z",
     "start_time": "2019-02-08T12:26:00.716547Z"
    }
   },
   "outputs": [],
   "source": [
    "#Compilando o programa\n",
    "! f95 -o x -std=f2008 -Wpedantic src/Terceiro.f95"
   ]
  },
  {
   "cell_type": "code",
   "execution_count": 4,
   "metadata": {
    "ExecuteTime": {
     "end_time": "2019-02-08T12:26:43.063247Z",
     "start_time": "2019-02-08T12:26:42.951971Z"
    }
   },
   "outputs": [
    {
     "name": "stdout",
     "output_type": "stream",
     "text": [
      " Você sabe escrever e ler?\r\n",
      " O par (I,J) = (           1 ,           8 )\r\n"
     ]
    }
   ],
   "source": [
    "# Rodando o  programa: Vamos passar uma variável por linha agora\n",
    "!echo \"1\\n 8\\n\" | ./x -"
   ]
  },
  {
   "cell_type": "markdown",
   "metadata": {},
   "source": [
    "## Opções de compilação GNU Fortran\n",
    "\n",
    "A seguir listamos algumas opções básicas de compilação:\n",
    "\n",
    "  | Opção/Compilador                    | gfortran                 | ifort (intel)                 |\n",
    "  |:----------------------------------- |:------------------------ |:----------------------------- |\n",
    "  | Versão do fortran                   | -std=[f95,f2003,f2008,f2018]   |  -std, -std90, -std95, -std03 |\n",
    "  | Otimização da velocidade            | -O[2,3]                  |  -O[2,3]                      |\n",
    "  | Avisos                              | -Wall                    |  -Warn all                    |\n",
    "  | Verificar dimensões das matrizes    | -fcheck=bounds           |  -check bounds                |\n",
    "  | Verificar tudo                      | -fcheck=all              |  -check all                   |\n",
    "  | Habilita debug                      |  -g                      |  -g                           |\n",
    "\n",
    "```bash\n",
    "> gfortran -Wall -Waliasing -pedantic -Warray-bounds -Wsurprising -Wunderflow -fcheck=all -std=f2008 -o prog prog.f95\n",
    "```"
   ]
  },
  {
   "cell_type": "markdown",
   "metadata": {},
   "source": [
    "## O término de um programa Fortran\n",
    "\n",
    "As declarações `STOP` e `END PROGRAM` são usadas para terminar um programa. A instrução `STOP` é uma instrução que informa ao computador para parar de executar o programa. A instrução `END PROGRAM` é uma declaração que diz ao compilador que não há mais instruções a serem compiladas no programa.\n",
    "\n",
    "A instrução `STOP` toma uma das seguintes formas:\n",
    "\n",
    "```fortran\n",
    "STOP\n",
    "STOP 3\n",
    "STOP 'Parada por erro de execução'\n",
    "```\n",
    "\n",
    "Se a instrução `STOP` for usada sozinha, a execução será interrompida. Se a instrução `STOP` for usada com um número, esse número será impresso quando o programa parar e, normalmente, será retornado ao sistema operacional como um código de erro. Se a instrução `STOP` for usada com uma cadeia de caracteres, essa cadeia será impressa quando o programa parar.\n",
    "\n",
    "Quando a instrução `STOP` precede imediatamente a instrução `END PROGRAM` como neste exemplo, ela é opcional. Nesse caso, o compilador irá gerar automaticamente um comando `STOP` quando a instrução `END PROGRAM` for alcançada. A instrução `STOP` é, portanto, raramente usada.\n",
    "\n",
    "Existe uma versão alternativa da instrução `STOP` chamada `ERROR STOP`. Esta versão pára o programa, mas também notifica o sistema operacional que o programa não conseguiu executar corretamente. Um exemplo pode ser:\n",
    "\n",
    "```fortran\n",
    "ERROR STOP 'Não é possível acessar o banco de dados'\n",
    "```\n",
    "\n",
    "Esta versão da instrução `STOP` foi adicionada no Fortran 2008, e pode ser útil se você precisar informar um script do sistema operacional que um programa falhou anormalmente.\n",
    "\n",
    "\n",
    "Se a instrução `STOP` for usada sozinha, a execução será interrompida. Se a instrução `STOP` for usada com um número, esse número será impresso quando o programa parar e, normalmente, será retornado ao sistema operacional como um código de erro. Se a instrução `STOP` for usada com uma cadeia de caracteres, essa cadeia será impressa quando o programa parar.\n",
    "\n",
    "\n",
    "Quando a instrução `STOP` precede imediatamente a instrução `END PROGRAM` como neste exemplo, é opcional. O compilador irá gerar automaticamente um comando `STOP` quando a instrução `END PROGRAM` for alcançada. A instrução `STOP` é, portanto, raramente usada.\n",
    "\n",
    "\n",
    "Existe uma versão alternativa da instrução `STOP` chamada `ERROR STOP`. Esta versão pára o programa, mas também notifica o sistema operacional que o programa não conseguiu executar corretamente. Um exemplo pode ser:\n",
    "\n",
    "```fortran\n",
    "ERROR STOP 'Não é possível acessar o banco de dados'\n",
    "```\n",
    "\n",
    "Esta versão da instrução `STOP` foi adicionada no Fortran 2008, e pode ser útil se você precisar informar um script do sistema operacional que um programa falhou anormalmente."
   ]
  },
  {
   "cell_type": "markdown",
   "metadata": {},
   "source": [
    "## Programa teste do uso de memória\n",
    "\n",
    "```Fortran\n",
    "! Este eh um programa teste para verificar o estouro\n",
    "! da memoria. No compilador GNU (o gfortran) compile assim:\n",
    "! > gfortran -Wall -fcheck=all -o rodar Verifica_alocacao.f90\n",
    "! No compilador Intel (o ifort) compile assim:\n",
    "! > ifort -Warn all -check all -o x Verifica_dimensoes.f90\n",
    "PROGRAM teste\n",
    "  IMPLICIT NONE\n",
    "  INTEGER :: j\n",
    "  REAL    :: b=5.0, c(10)\n",
    "  CHARACTER(len=50) :: mensagem='O programa atribui a variável um lixo da memoria'\n",
    "  WRITE(*,*)\"Programa que testa, as dimensões das matrizes\"\n",
    "  write(*,*) \"b = \", b\n",
    "  do j=1,11\n",
    "    c(j) = b * sin(3.0*j)\n",
    "  end do\n",
    "  b=c(j)\n",
    "  print *, \"j = \", j, \"b = \", b\n",
    "  PRINT*, mensagem\n",
    "  STOP\n",
    "END PROGRAM teste\n",
    "```\n",
    "\n",
    "No compilador gfortran:\n",
    "\n",
    "```bash\n",
    " > f95 -Wall -o x Verifica_dimensoes.f90\n",
    " > ./x\n",
    " Programa que testa, as dimensões das matrizes\n",
    " b =    5.00000000\n",
    " j =           12 b =    0.00000000\n",
    " O programa atribui a variável um lixo da memoria\n",
    "```\n",
    "\n",
    "No compilador ifort\n",
    "```bash\n",
    " > ifort -Warn all -o x Verifica_dimensoes.f90\n",
    " > ./x\n",
    " Programa que testa, as dimensões das matrizes\n",
    " b =    5.000000\n",
    " j =           12 b =   0.0000000E+00\n",
    " O programa atribui a variável um lixo da memoria\n",
    "\n",
    "```"
   ]
  },
  {
   "cell_type": "code",
   "execution_count": 10,
   "metadata": {
    "ExecuteTime": {
     "end_time": "2019-01-06T12:54:56.583228Z",
     "start_time": "2019-01-06T12:54:56.567970Z"
    }
   },
   "outputs": [
    {
     "name": "stdout",
     "output_type": "stream",
     "text": [
      "Overwriting src/Uso_da_Memoria.f95\n"
     ]
    }
   ],
   "source": [
    "%%writefile src/Uso_da_Memoria.f95\n",
    "! Este eh um programa teste para verificar o estouro\n",
    "! da memoria. No compilador GNU (o gfortran) compile assim:\n",
    "! > gfortran -Wall -fcheck=all -o rodar Verifica_alocacao.f90\n",
    "! No compilador Intel (o ifort) compile assim:\n",
    "! > ifort -Warn all -check all -o x Verifica_dimensoes.f90\n",
    "PROGRAM teste\n",
    "  IMPLICIT NONE\n",
    "  INTEGER :: j\n",
    "  REAL    :: b=5.0, c(10)\n",
    "  CHARACTER(len=60) :: mensagem='O programa atribui a variável um lixo qualquer da memoria'\n",
    "  WRITE(*,*)\"Programa que testa, as dimensões das matrizes\"\n",
    "  write(*,*) \"b = \", b\n",
    "  do j=1,11\n",
    "    c(j) = b * sin(3.0*j)\n",
    "  end do\n",
    "  b=c(j)\n",
    "  print *, \"j = \", j, \"b = \", b\n",
    "  PRINT*, mensagem\n",
    "  STOP\n",
    "END PROGRAM teste"
   ]
  },
  {
   "cell_type": "code",
   "execution_count": 11,
   "metadata": {
    "ExecuteTime": {
     "end_time": "2019-01-06T12:55:00.015365Z",
     "start_time": "2019-01-06T12:54:59.814899Z"
    }
   },
   "outputs": [],
   "source": [
    "# Compilando o programa \n",
    "!f95 -Wall -Waliasing -pedantic -Warray-bounds -Wsurprising -Wunderflow -fcheck=all -std=f2008 -o x src/Uso_da_Memoria.f95"
   ]
  },
  {
   "cell_type": "code",
   "execution_count": 12,
   "metadata": {
    "ExecuteTime": {
     "end_time": "2019-01-06T12:55:01.957079Z",
     "start_time": "2019-01-06T12:55:01.831699Z"
    }
   },
   "outputs": [
    {
     "name": "stdout",
     "output_type": "stream",
     "text": [
      " Programa que testa, as dimensões das matrizes\r\n",
      " b =    5.00000000    \r\n",
      "At line 14 of file src/Uso_da_Memoria.f95\r\n",
      "Fortran runtime error: Index '11' of dimension 1 of array 'c' above upper bound of 10\r\n",
      "\r\n",
      "Error termination. Backtrace:\r\n",
      "#0  0x7f62e28cc31a\r\n",
      "#1  0x7f62e28ccec5\r\n",
      "#2  0x7f62e28cd297\r\n",
      "#3  0x5589fc2acb8d\r\n",
      "#4  0x5589fc2acdb3\r\n",
      "#5  0x7f62e2143b96\r\n",
      "#6  0x5589fc2ac8f9\r\n",
      "#7  0xffffffffffffffff\r\n"
     ]
    }
   ],
   "source": [
    "!./x"
   ]
  },
  {
   "cell_type": "code",
   "execution_count": 13,
   "metadata": {
    "ExecuteTime": {
     "end_time": "2019-01-06T12:55:08.725509Z",
     "start_time": "2019-01-06T12:55:08.546040Z"
    }
   },
   "outputs": [],
   "source": [
    "# Compilando sem a verificação da memória\n",
    "!f95 -Wall -Waliasing -pedantic -Wsurprising -Wunderflow -std=f2008 -o y src/Uso_da_Memoria.f95"
   ]
  },
  {
   "cell_type": "code",
   "execution_count": 14,
   "metadata": {
    "ExecuteTime": {
     "end_time": "2019-01-06T12:55:09.898041Z",
     "start_time": "2019-01-06T12:55:09.785755Z"
    }
   },
   "outputs": [
    {
     "name": "stdout",
     "output_type": "stream",
     "text": [
      " Programa que testa, as dimensões das matrizes\r\n",
      " b =    5.00000000    \r\n",
      " j =           12 b =   -4.01435578E+17\r\n",
      " O programa atribui a variável um lixo qualquer da memoria  \r\n"
     ]
    }
   ],
   "source": [
    "# Rodando o programa\n",
    "!./y"
   ]
  },
  {
   "cell_type": "code",
   "execution_count": 15,
   "metadata": {
    "ExecuteTime": {
     "end_time": "2019-01-06T12:56:12.657977Z",
     "start_time": "2019-01-06T12:56:12.546968Z"
    }
   },
   "outputs": [
    {
     "name": "stdout",
     "output_type": "stream",
     "text": [
      " Programa que testa, as dimensões das matrizes\r\n",
      " b =    5.00000000    \r\n",
      " j =           12 b =   -1.89904921E-31\r\n",
      " O programa atribui a variável um lixo qualquer da memoria  \r\n"
     ]
    }
   ],
   "source": [
    "# Rodando novamente o programa, obtemos um novo valor\n",
    "!./y"
   ]
  },
  {
   "cell_type": "markdown",
   "metadata": {},
   "source": [
    "Posteriormente voltaremos a esse assunto, mas por enquanto fique e para evitar esse erros use as opções de compilação passadas acima. "
   ]
  },
  {
   "cell_type": "markdown",
   "metadata": {},
   "source": [
    "## Entrada e Saída de Dados Leitura/Escrita\n",
    "\n",
    "Considere o seguinte exemplo:"
   ]
  },
  {
   "cell_type": "code",
   "execution_count": 16,
   "metadata": {
    "ExecuteTime": {
     "end_time": "2019-01-06T12:56:47.683861Z",
     "start_time": "2019-01-06T12:56:47.660623Z"
    }
   },
   "outputs": [
    {
     "name": "stdout",
     "output_type": "stream",
     "text": [
      "Overwriting src/Entrada_x_saida_01.f95\n"
     ]
    }
   ],
   "source": [
    "%%writefile src/Entrada_x_saida_01.f95\n",
    "PROGRAM segundo\n",
    "  IMPLICIT NONE\n",
    "  INTEGER :: idade !A variável idade é do tipo inteira\n",
    "  PRINT *, 'Olá'\n",
    "  PRINT *, 'Quantos anos você tem'\n",
    "  READ(*,*) idade ! Lê a variável idade na tela\n",
    "  PRINT *, 'Então você tem ', idade, 'invernos'\n",
    "  STOP\n",
    "END PROGRAM segundo"
   ]
  },
  {
   "cell_type": "code",
   "execution_count": 17,
   "metadata": {
    "ExecuteTime": {
     "end_time": "2019-01-06T12:56:51.543652Z",
     "start_time": "2019-01-06T12:56:51.338863Z"
    }
   },
   "outputs": [],
   "source": [
    "# Compilando o programa\n",
    "!f95 -Wall -Waliasing -pedantic -Wsurprising -Wunderflow -std=f2008 -o x src/Entrada_x_saida_01.f95"
   ]
  },
  {
   "cell_type": "code",
   "execution_count": 18,
   "metadata": {
    "ExecuteTime": {
     "end_time": "2019-01-06T12:56:53.101277Z",
     "start_time": "2019-01-06T12:56:52.988709Z"
    }
   },
   "outputs": [
    {
     "name": "stdout",
     "output_type": "stream",
     "text": [
      " Olá\r\n",
      " Quantos anos você tem\r\n",
      " Então você tem           21 invernos\r\n"
     ]
    }
   ],
   "source": [
    "# Rodando o programa\n",
    "!echo \"21\" | ./x - "
   ]
  },
  {
   "cell_type": "markdown",
   "metadata": {},
   "source": [
    "A instrução:\n",
    "-   `READ *` ou `READ(*,*)` faz uma leitura de variáveis, na tela, em formato livre.\n",
    "\n",
    "-   `PRINT *` ou `WRITE(*,*)` imprime em formato livre na tela.\n"
   ]
  },
  {
   "cell_type": "markdown",
   "metadata": {},
   "source": [
    "## Características do Fortran\n",
    "\n",
    "### Conceitos Básicos de Programação\n",
    "\n",
    "-   O comentário é uma documentação do programa;\n",
    "\n",
    "-   O programa deve ser portável, independente do compilador;\n",
    "\n",
    "-   O programa de ser estruturado, seguindo uma sequência sem desvios;\n",
    "\n",
    "-   Todas as variáveis devem ser declaradas explicitamente;\n",
    "\n",
    "-   Bons programas devem ter um equilíbrio entre tempo de CPU e Memória usada;\n",
    "\n",
    "-   De preferência as funções intrínsecas.\n",
    "\n",
    "### Representação dos dados\n",
    "\n",
    "Os tipos de dados que surgem ao desenvolver um programa podem ser variáveis ou constantes:\n",
    "\n",
    "- <span style=\"color:red\"> **Constante**</span> quantidade fixa, invariável; valor que não \n",
    "  muda no decorrer dos cálculos relativos ao programa;\n",
    "\n",
    "- <span style=\"color:red\"> **Variável**</span> quantidade que pode ter seu valor alterado \n",
    "  no decorrer dos cálculos relativos ao programa;\n",
    "\n",
    "Tanto as contantes, quanto as variáveis podem ser:\n",
    "\n",
    "   - <span style=\"color:blue\">**Numéricas:**</span> Armazenam números;\n",
    "\n",
    "   - <span style=\"color:blue\">**Lógicas:**</span> Armazenam valores lógicos (verdadeiro x falso);\n",
    "\n",
    "   - <span style=\"color:blue\">**Cadeia de Caracteres:**</span> Armazenam uma sequência de caracteres.\n",
    "\n",
    "### Representação típica de dados\n",
    "\n",
    "Nas linguagens de programação, tipicamente os dados são representados por:\n",
    "\n",
    "-   **números inteiros:** Os inteiros, ou seja, `integer`;\n",
    "\n",
    "-   **números de ponto flutuante:** Os Reais, ou seja, `real`;\n",
    "\n",
    "-   **números Complexos:** Os complexos (Nem todas as linguagens a implementam), ou seja, `complex`;\n",
    "\n",
    "-   **lógicas para testes:** (Há variações entre as diversas linguagens), ou seja, `logical`;\n",
    "\n",
    "-   **caracteres para textos:** No Fortran são os `character` enquanto no C/C++ e python são as `strings`.\n",
    "\n",
    "### Conceitos básicos do Fortran: Formatação\n",
    "\n",
    "<span style=\"color:blue\">**FORTRAN 90**</span> - Formato Livre. As extensões identificadas pelos compiladores são: \\*.f90, \\*.f95, [\\*.hpf], [\\*.f03]\n",
    "\n",
    "-   O programa pode ser escrito em qualquer posição;\n",
    "\n",
    "-   As linhas de continuação são indicadas pelo símbolo `&` no fim da sentença \n",
    "    e a próxima linha abaixo que não seja um comentário será tomada como continuação;\n",
    "\n",
    "-   Deixe sempre um espaço entre os comandos e o símbolo de continuação;\n",
    "\n",
    "-   É permitida a inserção de comentários após a continuação de linha `&`;\n",
    "\n",
    "-   Os rótulos devem ser os primeiros caracteres da linha, e podem estar em qualquer coluna.\n",
    "\n",
    "### Fortran 90\n",
    "\n",
    "O Fortran 90 foi uma revisão importante do FORTRAN 77. Ele introduziu muitos recursos novos e, embora não tenha excluído nenhum recurso, vários foram identificados como \"obsoletos\".\n",
    "\n",
    "O texto completo do padrão Fortran 90 está disponível em formato [PDF aqui:](ftp://ftp.nag.co.uk/sc22wg5/N001-N1100/N692.pdf).\n",
    "\n",
    "**Novas características:**\n",
    "\n",
    "- Entrada de fonte de forma livre.\n",
    "- Alocação de memória dinâmica por meio do atributo `allocatable` e das instruções `allocate` e `deallocate`.\n",
    "\n",
    "**Recursos obsoletos**\n",
    "\n",
    "\n",
    "\n",
    "\n",
    "\n",
    "### Fortran 95\n",
    "O Fortran 95 foi uma revisão menor, mas adicionou várias extensões, especialmente da especificação High Performance Fortran:\n",
    "\n",
    "forall e aninhado onde construções para ajudar a vetorização\n",
    "Procedimentos puros e elementares definidos pelo usuário\n",
    "Inicialização de ponteiro e inicialização padrão da estrutura.\n",
    "Um número de funções intrínsecas foram estendidas (por exemplo, um argumento obscuro foi adicionado ao maxloc intrínseco).\n",
    "\n",
    "Vários recursos observados no Fortran 90 para serem preteridos foram removidos do Fortran 95:\n",
    "\n",
    "fazer declarações usando variáveis de precisão reais e duplas\n",
    "Ramificando para um fim se a declaração de fora do seu bloco\n",
    "declaração de pausa\n",
    "atribuir e atribuir instrução goto e especificadores de formato atribuídos\n",
    "h editar descritor.\n",
    "Além disso, duas extensões foram propostas envolvendo melhorias aritméticas e alocáveis do IEEE. O primeiro foi incluído no Fortran 2003, mas o último foi adiado.\n",
    "\n",
    "\n",
    "### Conceitos básicos do Fortran: Comentários\n",
    "\n",
    "Quanto aos comentários no Fortran:\n",
    "\n",
    "-   Não são interpretados pelo compilador;\n",
    "\n",
    "-   Um bom programa tem muitos comentários, curtos e instrutivos, ou\n",
    "    seja, permitem um leitura e interpretação de cada passagem do\n",
    "    código;\n",
    "\n",
    "-   O comando `!` indica que o que vem após ele é comentário;\n",
    "\n",
    "-   O comentário `!` pode vir em qualquer posição, inclusive após os\n",
    "    comandos;\n",
    "\n",
    "-   Alguns compiladores aceitam qualquer caractere diferente de números\n",
    "    para iniciar a linha de comentário. Algo específico de um comilador,\n",
    "    portanto não deve ser usado.\n",
    "\n",
    "### Conceitos básicos do Fortran: Constantes\n",
    "\n",
    "-   Constante é uma quantidade fixa, invariável; um valor que não muda\n",
    "    no decorrer dos cálculos relativos ao programa.\n",
    "\n",
    "-   Classes:\n",
    "\n",
    "    - Numéricas – tratam números;\n",
    "\n",
    "    - Lógicas – tratam valores lógicos (verdadeiro x falso)\n",
    "\n",
    "    - Cadeia de Caracteres – tratam sequência de caracteres.\n",
    "\n",
    "-   Usar o a instrução `PARAMETER`, na declaração da variável que será\n",
    "    uma constante.\n",
    "\n",
    "### Conceitos básicos do Fortran: Variáveis\n",
    "\n",
    "-   Variável é uma entidade que armazena valores e é conhecida no\n",
    "    programa por um nome;\n",
    "\n",
    "-   Uma variável é um nome representando uma área de memória, que pode\n",
    "    conter até 31 caracteres alfanuméricos, começando necessariamente\n",
    "    por uma letra;\n",
    "\n",
    "-   Caracteres adicionais são permitidos, mas ignorados;\n",
    "\n",
    "-   Os nomes de variáveis, devem refletir o seu significado no programa."
   ]
  },
  {
   "cell_type": "markdown",
   "metadata": {},
   "source": [
    "## Palavas chaves reservadas\n",
    "\n",
    "### FORTRAN 77\n",
    "\n",
    "As seguintes palavras-chave foram definidas FORTRAN 77: <span style=\"color:red\"> assign, backspace, block data, call, close, common, continue, data, dimension, do, else, else if, end, endfile, endif, entry, equivalence, external, format, function, goto, if, implicit, inquire, intrinsic, open, parameter, pause, print, program, read, return, rewind, rewrite, save, stop, subroutine, then, write</span>.\n",
    "\n",
    "### Fortran 90\n",
    "\n",
    "As seguintes palavras-chave foram adicionadas ao Fortran 90: <span style=\"color:red\">allocatable, allocate, case, contains, cycle, deallocate, elsewhere, exit?, include, interface, intent, module, namelist, nullify, only, operator, optional, pointer, private, procedure, public, recursive, result, select, sequence, target, use, while, where</span>.\n",
    "\n",
    "### Fortran 95\n",
    "\n",
    "As seguintes palavras-chave foram adicionadas ao Fortran 95: <span style=\"color:red\"> elemental, forall, pure</span>.\n",
    "\n",
    "### Fortran 2003\n",
    "\n",
    "As seguintes caracteríticas foram adicionadas ao Fortran 2003: <span style=\"color:red\"> abstract, associate, asynchronous, bind, class, deferred, enum, enumerator, extends, final, flush, generic, import, non_overridable, nopass, pass, protected, value, volatile, wait</span>.\n",
    "\n",
    "### Fortran 2008\n",
    "\n",
    "As seguintes palavras-chave foram adicionadas ao Fortran 2008:<span style=\"color:red\"> block, codimension, do concurrent, contiguous, critical, error stop, submodule, sync all, sync images, sync memory, lock, unlock</span>.\n",
    "\n",
    "### Fortran 2018\n",
    "\n",
    "A última revisão da linguagem [Fortran 2018](https://wg5-fortran.org/f2018.html) era anteriormente referida como Fortran 2015. É uma revisão significativa e foi lançado em 28 de novembro de 2018, mas os fabricantes de compiladores ainda não tiveram tempo de implementar todas suas características.\n",
    "\n",
    "O Fortran 2018 incorpora duas especificações técnicas publicadas anteriormente:\n",
    "\n",
    "- ISO/IEC TS 29113:2012 [Maior interoperabilidade com C](https://wg5-fortran.org/N1901-N1950/N1942.pdf)\n",
    "- ISO/IEC TS 18508:2015 [Recursos Paralelos Adicionais em Fortran](http://isotc.iso.org/livelink/livelink?func=ll&objId=17288706&objAction=Open)\n",
    "- Alterações adicionais e novos recursos incluem suporte para ISO/IEC/IEEE 60559:2011, entrada/saída hexadecimal, aprimoramentos IMPLICIT NONE e outras alterações, conforme:\n",
    "    - [The New Features of Fortran 2015](http://isotc.iso.org/livelink/livelink?func=ll&objId=19044944&objAction=Open).\n",
    "    - [Doctor Fortran in \"One Door Closes\"](https://software.intel.com/en-us/blogs/2015/09/04/doctor-fortran-in-one-door-closes). \n",
    "    - [Doctor Fortran Goes Dutch: Fortran 2015](http://software.intel.com/en-us/blogs/2013/08/08/doctor-fortran-goes-dutch-fortran-2015). \n",
    "    - [Fortran 2018 Interpretation Document, 9 October 2018](http://j3-fortran.org/doc/year/18/18-007r1.pdf).\n",
    "\n",
    "\n",
    "O documento [Fortran 2018 Interpretation Document](http://j3-fortran.org/doc/year/18/18-007r1.pdf), de 9 Outobro 2018 traz as modificações do Fortran 2018.\n"
   ]
  },
  {
   "cell_type": "markdown",
   "metadata": {},
   "source": [
    "### Caracteres especiais do Fortran 90\n",
    "\n",
    "\n",
    "| Caracter | Caracter | Caracter | Caracter | Caracter | Caracter |\n",
    "| :------- | :------- | :------- | :------- | :------- | :------- |\n",
    "| `=`    | `(`      | `:`      | `>`    | `&`    |    `/=` |\n",
    "| `+`    | `)`      | `(/`     | `?`     | `;`     |   `::` |\n",
    "| `-`      | `,`      | `/)`    | `//`     | `>=` |  `%` |\n",
    "| `*`     | `.`      | `\"`     | `'`       | `<=` |   `!` |\n",
    "| `/`     | `$`      | `<`   | ` `       | `==` |  `=>` |\n"
   ]
  },
  {
   "cell_type": "markdown",
   "metadata": {},
   "source": [
    "<!--\n",
    "\n",
    "## Palavras Reservadas do Fortran 90\n",
    "\n",
    "<span style=\"color:blue\"> \n",
    "| Palavra         |  Palavra        | Palavra         | Palavra         |\n",
    "|:---------------:|:---------------:|:---------------:|:---------------:|\n",
    "| ALLOCATE        | ELSEWHERE       | MODULE          | SAVE            |\n",
    "| ALLOCATABLE     | EXIT            | NONE            | SELECT          |\n",
    "| CALL            | EXTERNAL        | ONLY            | SIZE            |\n",
    "| CASE            | FUNCTION        | OPEN            | STAT            |\n",
    "| CHARACTER       | IF              | OUT             | STOP            |\n",
    "| COMPLEX         | IMPLICIT        | PARAMETER       | SUBROUTINE      |\n",
    "| CONTAINS        | IN              | POINTER         | TARGET          |\n",
    "| CYCLE           | INOUT           | PRINT           | THEN            |\n",
    "| DEALLOCATE      | INTEGER         | PROGRAM         | TYPE            |\n",
    "| DEFAULT         | INTENT          | READ            | UNIT            |\n",
    "| DIMENSION       | INTERFACE       | REAL            | USE             |\n",
    "| DO              | INTRINSIC       | RECURSIVE       | WHERE           |\n",
    "| END             | KIND            | RESULT          | WRITE           |\n",
    "| ELSE            | LOGICAL         | RETURN          |                 |\n",
    "</span>\n",
    "\n",
    "-->\n",
    "\n",
    "http://fortranwiki.org/fortran/show/Keywords"
   ]
  },
  {
   "cell_type": "markdown",
   "metadata": {},
   "source": [
    "## Palavras Reservadas do Fortran 90\n",
    "\n",
    "<span style=\"color:blue\"> \n",
    "\n",
    "| Palavra         |  Palavra        | Palavra         | Palavra         |\n",
    "|:---------------:|:---------------:|:---------------:|:---------------:|\n",
    "| ALLOCATE        | ELSEWHERE       | MODULE          | SAVE            |\n",
    "| ALLOCATABLE     | EXIT            | NONE            | SELECT          |\n",
    "| CALL            | EXTERNAL        | ONLY            | SIZE            |\n",
    "| CASE            | FUNCTION        | OPEN            | STAT            |\n",
    "| CHARACTER       | IF              | OUT             | STOP            |\n",
    "| COMPLEX         | IMPLICIT        | PARAMETER       | SUBROUTINE      |\n",
    "| CONTAINS        | IN              | POINTER         | TARGET          |\n",
    "| CYCLE           | INOUT           | PRINT           | THEN            |\n",
    "| DEALLOCATE      | INTEGER         | PROGRAM         | TYPE            |\n",
    "| DEFAULT         | INTENT          | READ            | UNIT            |\n",
    "| DIMENSION       | INTERFACE       | REAL            | USE             |\n",
    "| DO              | INTRINSIC       | RECURSIVE       | WHERE           |\n",
    "| END             | KIND            | RESULT          | WRITE           |\n",
    "| ELSE            | LOGICAL         | RETURN          |                 |\n",
    "\n",
    "</span>\n",
    "\n",
    "## Palavras reservadas adicionados pelo Fortran 95\n",
    "\n",
    "<span style=\"color:blue\"> ELEMENTAL, FORALL, PURE</span>\n",
    "\n",
    "## Palavras reservadas adicionados pelo Fortran 2003\n",
    "\n",
    "<span style=\"color:blue\"> ABSTRACT, ASSOCIATE, ASYNCHRONOUS, BIND, CLASS, DEFERRED, ENUM, ENUMERATOR, EXTENDS, FINAL, FLUSH, GENERIC, IMPORT, NON_OVERRIDABLE, NOPASS, PASS, PROTECTED, VALUE, VOLATILE, WAIT</span>.\n",
    "\n",
    "## Palavras do Fortran 2008\n",
    "\n",
    "| Palavra         |  Palavra        | Palavra         | Palavra         |\n",
    "|:---------------:|:---------------:|:---------------:|:---------------:|\n",
    "| ABSTRACT               | DO CONCURRENT  | INCLUDE           | READ                    | \n",
    "| ALLOCATABLE            | ELEMENTAL      | INQUIRE           | RECURSIVE               | \n",
    "| ALLOCATE               | ELSE           | INTENT            | RESULT                  | \n",
    "| **ASSIGN**             | ELSEIF         | INTERFACE         | RETURN                  | \n",
    "| ASSOCIATE              | ELSEWHERE      | INTRINSIC         | REWIND                  | \n",
    "| ASYNCHRONOUS           | END            | LOCK              | REWRITE                 | \n",
    "| BACKSPACE              | ENDFILE        | MODULE            | SAVE                    | \n",
    "| BIND                   | ENDIF          | NAMELIST          | SELECT                  | \n",
    "| BLOCK                  | ENTRY          | NON_OVERRIDABLE   | SEQUENCE                | \n",
    "| BLOCKDATA              | ENUM           | NOPASS            | STOP                    | \n",
    "| CALL                   | ENUMERATOR     | NULLIFY           | SUBMODULE               | \n",
    "| CASE                   | EQUIVALENCE    | ONLY              | SUBROUTINE              | \n",
    "| CLASS                  | ERRORSTOP      | OPEN              | SYNCALL                 | \n",
    "| CLOSE                  | EXIT?          | OPERATOR          | SYNCIMAGES              | \n",
    "| CODIMENSION            | EXTENDS        | OPTIONAL          | SYNCMEMORY              | \n",
    "| COMMON                 | EXTERNAL       | PARAMETER         | TARGET                  | \n",
    "| CONTAINS               | FINAL          | PASS              | THEN                    | \n",
    "| CONTIGUOUS             | FLUSH          | **PAUSE**         | UNLOCK                  | \n",
    "| CONTINUE               | FORALL         | POINTER           | USE                     | \n",
    "| CRITICAL               | FORMAT         | PRINT             | VALUE                   | \n",
    "| CYCLE                  | FUNCTION       | PRIVATE           | VOLATILE                | \n",
    "| DATA                   | GENERIC        | PROCEDURE         | WAIT                    | \n",
    "| DEALLOCATE             | **GOTO**       | PROGRAM           | WHERE                   | \n",
    "| DEFERRED               | IF             | PROTECTED         | WHILE                   | \n",
    "| DIMENSION              | IMPLICIT       | PUBLIC            | WRITE                   | \n",
    "| DO                     | IMPORT         | PURE                                        | \n",
    "\n",
    "\n",
    "## Palavras reservadas cujo o espaço é indiferentes\n",
    "\n",
    "No Fortran, um nome, uma constante ou um rótulo devem ser separados de uma palavra-chave, nome, constante ou rótulo adjacente por um ou mais espaços em branco ou pelo final de uma linha. Por exemplo, em\n",
    "\n",
    "```fortran\n",
    "real x\n",
    "rewind 10\n",
    "30 do k = 1,3\n",
    "```\n",
    "\n",
    "os espaços em branco são necessários após `real`, `rewind`, `30` e `do`. Da mesma forma, as palavras-chave adjacentes normalmente devem ser separadas, mas alguns pares de palavras-chave, como `else if`, não precisam ser separados. Da mesma forma, algumas palavras-chave podem ser divididas; por exemplo, `inout` pode ser escrito como `in out`. As regras exatas são dadas na tabela abaixo.\n",
    "\n",
    "\n",
    "| Nome              | Nome              | Nome               | Nome            |\n",
    "|-------------------|-------------------|--------------------|-----------------|\n",
    "| `all stop**`      | `block data`      | `double precision` | `else if`       |\n",
    "| `else where*`     | `end associate*`  | `end block**`      | `end block data`|\n",
    "| `end critical**`  | `end do`          | `end enum*`        | `end file`      |\n",
    "| `end forall`      | `end function`    | `end if`           | `end interface` |\n",
    "| `end module`      | `end procedure**` | `end program`      | `end select`    |\n",
    "| `end submodule**` | `end subroutine`  | `end type`         | `end where`     |\n",
    "| `go to`           | `in out`          | `select case`      | `select type*`  |\n",
    "\n",
    "- `*` A partir do Fortran 2003 em diante \n",
    "- `**` Somente a partir do Fortran 2008.\n",
    "\n",
    "\n",
    "## Caracterísicas do Fortran 90 removidas\n",
    "\n",
    "1) A instrução `PAUSE`\n",
    "\n",
    "> A instrução `PAUSE`, fornecida no Fortran 66, Fortran 77 e Fortran 90, foi excluída. Um resultado semelhante pode ser obtido escrevendo uma mensagem na unidade apropriada, seguida da leitura da unidade apropriada.\n",
    "   \n",
    "2) As instruções `ASSIGN` e `GO TO` e especificadores de formato atribuídos.\n",
    "\n",
    "> A instrução `ASSIGN` e  `GO TO`, fornecidas no Fortran 66, Fortran 77 e Fortran 90, foram excluídas. Além disso, a capacidade de designar um número inteiro como formato, fornecido no Fortran 77 e no Fortran 90, foi excluída. Um resultado semelhante pode ser obtido usando outras construções de controle em vez da instrução `GO TO` designada e usando uma variável de caractere padrão para manter uma especificação de formato em vez de usar um inteiro designado.\n",
    "    "
   ]
  },
  {
   "cell_type": "markdown",
   "metadata": {},
   "source": [
    "## Tipos de dados do Fortran 95\n",
    "\n",
    "No Fortran 90 temos variáveis para:\n",
    "\n",
    "-   representar os números inteiros: <span style=\"color:blue\">integer</span>;\n",
    "\n",
    "-   representar os números de ponto flutuante: <span style=\"color:blue\">real</span> ;\n",
    "\n",
    "-   representar os números Complexos: <span style=\"color:blue\">complex</span> ;\n",
    "\n",
    "-   testes lógicos: <span style=\"color:blue\">logical</span> ;\n",
    "\n",
    "-   representar os caracteres de texto: <span style=\"color:blue\">character</span> ;\n",
    "\n",
    "-   representar variáveis criadas pelo programador com o: <span style=\"color:blue\">type ...</span> .\n",
    "\n",
    "\n",
    "## As declarações no Fortran 95\n",
    "\n",
    "A seguir mostramos um exemplo no qual todos os tipos de váriveis são declradas\n",
    "\n",
    "\n",
    "```Fortran\n",
    "PROGRAM DeclaracaDeVariaveis\n",
    "  IMPLICIT NONE\n",
    "  INTEGER           :: i, j  ! Declara i e j como inteiros\n",
    "  REAL              :: a, b  ! Declara a e b como reais\n",
    "  COMPLEX           :: psi   ! Declara psi como complexa\n",
    "  LOGICAL           :: test  ! Declara test como logica\n",
    "  CHARACTER(LEN=50) :: Nome  ! Nome armazena ate 50 caracteres\n",
    "\n",
    "  < C O M A N D O S >\n",
    "\n",
    "  STOP\n",
    "END PROGRAM DeclaracaDeVariaveis\n",
    "```\n",
    "\n",
    "## Declaração implícita: Fortran 77\n",
    "\n",
    "-   NÃO DEVE SER USADA. Característica do Fortran 77, ainda mantida, nos compiladores atuais.\n",
    "\n",
    "-   A declaração de tipo implícito é determinada pela primeira letra do nome da variável:\n",
    "\n",
    "    -   i,j,k,l,m,n: variáveis inteiras: ` IMPLICIT INTEGER (I-N)`;\n",
    "\n",
    "    -   a-h, o-z: variáveis reais de precisão simples: `IMPLICIT REAL*8 (A-H,O-Z)`\n",
    "\n",
    "-   Um exemplo de modificação de uma declaração implícita\n",
    "\n",
    "```Fortran\n",
    "    IMPLICIT REAL*8 (A,B,D-H,O-Z)\n",
    "    IMPLICIT INTEGER (I-K,M,N)\n",
    "    IMPLICIT LOGICAL (L)\n",
    "    IMPLICIT COMPLEX (C)\n",
    "```\n",
    "\n",
    "-   Para obrigar que todas as variáveis sejam explicitamente declaradas, use como primeira instrução após o nome do programa,\n",
    "\n",
    "```Fortran\n",
    "    IMPLICIT NONE\n",
    "```\n",
    "\n",
    "## Declarando e inicializando\n",
    "\n",
    "Tipicamente os dados no fortran podem ser, representados como:\n",
    "\n",
    "```Fortran\n",
    "PROGRAM Declaracao\n",
    "  IMPLICIT NONE\n",
    "  INTEGER :: i, j, k=3      ! Variaveis inteiras, sendo k inicializado com 3\n",
    "  REAL    :: a, b, c=1.0    ! Variaveis reais, sendo c inicializado com 10.0\n",
    "  COMPLEX :: c0, ci=(0,1.0) ! Variavel ci inicializada como um imaginario puro\n",
    "  LOGICAL :: teste1, teste2=.true.         ! Variavel teste2 inicializada\n",
    "  CHARACTER(len=40) :: Carro, Nome=\"Maria\" ! Variaveis caracteres inicializada\n",
    "  < C O M A N D O S >\n",
    "  STOP\n",
    "END PROGRAM Declaracao\n",
    "```"
   ]
  },
  {
   "cell_type": "markdown",
   "metadata": {},
   "source": [
    "## Váriaveis Inteiras: `Vars_int.f95`\n",
    "\n",
    "```Fortran\n",
    "PROGRAM var_inteiras\n",
    "   IMPLICIT NONE\n",
    "   INTEGER :: i, j, k  ! Declara os inteiros\n",
    "   REAL    :: a, b, c  ! Declara os reais\n",
    "   CHARACTER (len=50) :: texto\n",
    "   PRINT *, \"Entre com i e j\"\n",
    "   READ *, i, j ! Le as variáveis i e j\n",
    "   WRITE(*,*) \"i + j = \", i+j, \"e i - j = \", i-j\n",
    "   k = i / j; a=i/j ; b=REAL(i)/j; c= i/REAL(j)\n",
    "   PRINT *, \"O valor de i/j = \",k,\" a = i/j = \",a\n",
    "   texto=\"Qual é a diferença entre a= real(i)/j \"\n",
    "   PRINT *, texto, \" b = \", b, \" c = \", c\n",
    "END PROGRAM var_inteiras\n",
    "```"
   ]
  },
  {
   "cell_type": "code",
   "execution_count": 1,
   "metadata": {
    "ExecuteTime": {
     "end_time": "2019-01-07T18:00:06.779920Z",
     "start_time": "2019-01-07T18:00:06.717020Z"
    }
   },
   "outputs": [
    {
     "name": "stdout",
     "output_type": "stream",
     "text": [
      "Overwriting src/Vars_int.f95\n"
     ]
    }
   ],
   "source": [
    "%%writefile src/Vars_int.f95\n",
    "PROGRAM var_inteiras\n",
    "   IMPLICIT NONE\n",
    "   INTEGER :: i, j, k           ! Declara os inteiros\n",
    "   REAL    :: a, b, c           ! Declara os reais\n",
    "   CHARACTER (len=50) :: texto  ! Delcara um texto de no máximao 50 caracteres\n",
    "   PRINT *, \"Entre com i e j\"\n",
    "   READ *, i, j                                    ! Le as variáveis i e j\n",
    "   WRITE(*,*) \"i + j = \", i+j, \"e i - j = \", i-j\n",
    "   k = i / j; a=i/j ; b=REAL(i)/j; c= i/REAL(j)    ! Diversas atribuições na mesma linha\n",
    "   PRINT *, \"O valor de i/j = \",k,\" a = i/j = \",a\n",
    "   texto=\"Qual é a diferença entre a= real(i)/j \"\n",
    "   PRINT *, texto, \" b = \", b, \" c = \", c\n",
    "END PROGRAM var_inteiras"
   ]
  },
  {
   "cell_type": "code",
   "execution_count": 2,
   "metadata": {
    "ExecuteTime": {
     "end_time": "2019-01-07T18:00:11.625427Z",
     "start_time": "2019-01-07T18:00:10.196203Z"
    }
   },
   "outputs": [],
   "source": [
    "#Compilando o programa\n",
    "!f95 -o x -Wall -std=f2008 src/Vars_int.f95"
   ]
  },
  {
   "cell_type": "code",
   "execution_count": 3,
   "metadata": {
    "ExecuteTime": {
     "end_time": "2019-01-07T18:00:12.097602Z",
     "start_time": "2019-01-07T18:00:11.637909Z"
    }
   },
   "outputs": [
    {
     "name": "stdout",
     "output_type": "stream",
     "text": [
      " Entre com i e j\r\n",
      " i + j =           22 e i - j =           -8\r\n",
      " O valor de i/j =            0  a = i/j =    0.00000000    \r\n",
      " Qual é a diferença entre a= real(i)/j            b =   0.466666669      c =   0.466666669    \r\n"
     ]
    }
   ],
   "source": [
    "#Rodando o programa\n",
    "! echo \"7 15\" | ./x -"
   ]
  },
  {
   "cell_type": "markdown",
   "metadata": {},
   "source": [
    "## Operadores Aritméticos do Fortran\n",
    "\n",
    "| Operador | Operação | Exemplo | Significado |\n",
    "|:-------- |:-------- |:------- |:----------- |\n",
    "| $**$  | Potência | $a**b$ | $a^{b}$ |\n",
    "| $*  $ | Multiplicação | $a*b $ | $a \\times b $ |\n",
    "| $/  $ | Divisão | $a/b $ | $a/b $ |\n",
    "| $+  $ | Soma | $a+b $ | $a+b $ |\n",
    "| $-  $ | Subtração | $a-b $ | $a-b $ |\n",
    "\n",
    "Todos estes operadores são calculados da esquerda para a direita, exceto o operador exponenciação $**$, que tem precedência da direita para esquerda. Use os parenteses para alterar a ordem dos cálculos.\n",
    "\n",
    "### Exemplos\n",
    "\n",
    "\n",
    "```Fortran\n",
    "x=a * -b    ! ilegal; deve ser a * (-b)\n",
    "x=a**-2     ! ilegal; deve ser a**(-2)\n",
    "z=x(y+z)    ! ilegal; deve ser x*(y+z)\n",
    "```\n",
    "Os $()$ impõem as precedências normais\n",
    "\n",
    "```Fortran\n",
    "a=2*8+6   ! a = 16+6=22\n",
    "a=2*(8+6) ! a = 2*14=28\n",
    "```\n",
    "\n",
    "Descubra os os seguintes resultados?\n",
    "\n",
    "```Fortran\n",
    "a=2+1-10/3/4\n",
    "b=2**3/3*2-5\n",
    "c=-(3*4-2)**(3-2**1+1)/-2    !(ilegal o -2 dever estar entre parenteses)\n",
    "```\n",
    "\n",
    "### Exemplo de operações aritméticas entre inteiros\n",
    "\n",
    "\n",
    "```Fortran\n",
    "integer :: i, j, k\n",
    "real    :: a, b\n",
    "..\n",
    "a=2.0;    b=15.40\n",
    "j=6/4\n",
    "k=9/4+1\n",
    "j=b/a\n",
    "k=a*b\n",
    "```"
   ]
  },
  {
   "cell_type": "markdown",
   "metadata": {},
   "source": [
    "## Código Fonte na Forma Livre: Exemplo\n",
    "\n",
    "```Fortran\n",
    "PROGRAM FonteNaFormaLivre ! Nao ha coluna especial\n",
    "! Nomes Longos com underscores\n",
    "IMPLICIT NONE\n",
    "REAL :: a=3.0, b=4.0, x      ! Letras maiusculas e minusculas\n",
    "REAL :: tx, ty, tz   ! comentario seguido\n",
    "! Multiplas declaracoes por linha\n",
    "tx = 1.0; ty = 2.0; tz = tx * ty;\n",
    "! Continuacao em uma linha\n",
    "PRINT *, &    ! Aqui quebramos a linha\n",
    "tx, ty, tz\n",
    "x = a + &  ! Outra forma de quebrar uma linha\n",
    "    & b**2\n",
    "END PROGRAM FonteNaFormaLivre\n",
    "```"
   ]
  },
  {
   "cell_type": "code",
   "execution_count": 8,
   "metadata": {
    "ExecuteTime": {
     "end_time": "2019-01-07T18:19:00.553940Z",
     "start_time": "2019-01-07T18:19:00.548460Z"
    }
   },
   "outputs": [
    {
     "name": "stdout",
     "output_type": "stream",
     "text": [
      "Overwriting src/Exercicio_01.f95\n"
     ]
    }
   ],
   "source": [
    "%%writefile src/Exercicio_01.f95\n",
    "PROGRAM Exercicio\n",
    "   IMPLICIT NONE\n",
    "   PRINT *, \"2+1-10/3/4 = \", 2+1-10/3/4\n",
    "   PRINT *, \"2**3/3*2-5 = \", 2**3/3*2-5     \n",
    "   PRINT *, \"-(3*4-2)**(3-2**1+1)/-2 = \", -(3*4-2)**(3-2**1+1)/-2\n",
    "END PROGRAM Exercicio"
   ]
  },
  {
   "cell_type": "code",
   "execution_count": 32,
   "metadata": {
    "ExecuteTime": {
     "end_time": "2019-01-08T11:57:13.938163Z",
     "start_time": "2019-01-08T11:57:13.744635Z"
    }
   },
   "outputs": [
    {
     "name": "stdout",
     "output_type": "stream",
     "text": [
      "\u001b[01m\u001b[KFortran/Exercicio_01.f95:4:32:\u001b[m\u001b[K\r\n",
      "\r\n",
      "    PRINT *, \"2**3/3*2-5 = \", 2**3/3*2-5\r\n",
      "                                \u001b[01;35m\u001b[K1\u001b[m\u001b[K\r\n",
      "\u001b[01;35m\u001b[KWarning:\u001b[m\u001b[K Integer division truncated to constant ‘\u001b[01m\u001b[K2\u001b[m\u001b[K’ at (1) [\u001b[01;35m\u001b[K-Winteger-division\u001b[m\u001b[K]\r\n"
     ]
    }
   ],
   "source": [
    "#Compilando o programa\n",
    "!f95 -o x -Wall -std=f2008 src/Exercicio_01.f95"
   ]
  },
  {
   "cell_type": "code",
   "execution_count": 33,
   "metadata": {
    "ExecuteTime": {
     "end_time": "2019-01-08T11:57:26.083217Z",
     "start_time": "2019-01-08T11:57:25.972036Z"
    }
   },
   "outputs": [
    {
     "name": "stdout",
     "output_type": "stream",
     "text": [
      " 2+1-10/3/4 =    2.16666675    \r\n",
      " 2**3/3*2-5 =           -1\r\n",
      " -(3*4-2)**(3-2**1+1)/(-2) =           50\r\n"
     ]
    }
   ],
   "source": [
    "# Rodando o programa\n",
    "!./x"
   ]
  },
  {
   "cell_type": "code",
   "execution_count": 4,
   "metadata": {
    "ExecuteTime": {
     "end_time": "2019-01-08T11:44:15.121811Z",
     "start_time": "2019-01-08T11:44:15.114156Z"
    }
   },
   "outputs": [
    {
     "name": "stdout",
     "output_type": "stream",
     "text": [
      "Overwriting src/Exercicio_02.f95\n"
     ]
    }
   ],
   "source": [
    "%%writefile src/Exercicio_02.f95\n",
    "PROGRAM Exercicio\n",
    "   IMPLICIT NONE\n",
    "   ! Aqui ilustramos o problema da conversão interna \n",
    "   PRINT *, \"2+1-10/3/4 = \", 2+1-10/3/4\n",
    "   PRINT *, \"2+1-10.0/3/4 = \", 2+1-10.0/3/4\n",
    "   PRINT *, \"2+1-10/3.0/4 = \", 2+1-10/3.0/4\n",
    "   PRINT *, \"2+1-10/3/4.0 = \", 2+1-10/3/4.0\n",
    "   PRINT *, \"2**3/3*2-5 = \", 2**3/3*2-5     \n",
    "   PRINT *, \"-(3*4-2)**(3-2**1+1)/(-2) = \", -(3*4-2)**(3-2**1+1)/(-2)\n",
    "END PROGRAM Exercicio"
   ]
  },
  {
   "cell_type": "code",
   "execution_count": 34,
   "metadata": {
    "ExecuteTime": {
     "end_time": "2019-01-08T11:57:40.645743Z",
     "start_time": "2019-01-08T11:57:40.485247Z"
    }
   },
   "outputs": [
    {
     "name": "stdout",
     "output_type": "stream",
     "text": [
      "\u001b[01m\u001b[KFortran/Exercicio_02.f95:3:35:\u001b[m\u001b[K\r\n",
      "\r\n",
      "    PRINT *, \"2+1-10/3/4 = \", 2+1-10/3/4\r\n",
      "                                   \u001b[01;35m\u001b[K1\u001b[m\u001b[K\r\n",
      "\u001b[01;35m\u001b[KWarning:\u001b[m\u001b[K Integer division truncated to constant ‘\u001b[01m\u001b[K3\u001b[m\u001b[K’ at (1) [\u001b[01;35m\u001b[K-Winteger-division\u001b[m\u001b[K]\r\n",
      "\u001b[01m\u001b[KFortran/Exercicio_02.f95:3:36:\u001b[m\u001b[K\r\n",
      "\r\n",
      "    PRINT *, \"2+1-10/3/4 = \", 2+1-10/3/4\r\n",
      "                                    \u001b[01;35m\u001b[K1\u001b[m\u001b[K\r\n",
      "\u001b[01;35m\u001b[KWarning:\u001b[m\u001b[K Integer division truncated to constant ‘\u001b[01m\u001b[K0\u001b[m\u001b[K’ at (1) [\u001b[01;35m\u001b[K-Winteger-division\u001b[m\u001b[K]\r\n",
      "\u001b[01m\u001b[KFortran/Exercicio_02.f95:6:37:\u001b[m\u001b[K\r\n",
      "\r\n",
      "    PRINT *, \"2+1-10/3/4.0 = \", 2+1-10/3/4.0\r\n",
      "                                     \u001b[01;35m\u001b[K1\u001b[m\u001b[K\r\n",
      "\u001b[01;35m\u001b[KWarning:\u001b[m\u001b[K Integer division truncated to constant ‘\u001b[01m\u001b[K3\u001b[m\u001b[K’ at (1) [\u001b[01;35m\u001b[K-Winteger-division\u001b[m\u001b[K]\r\n",
      "\u001b[01m\u001b[KFortran/Exercicio_02.f95:7:32:\u001b[m\u001b[K\r\n",
      "\r\n",
      "    PRINT *, \"2**3/3*2-5 = \", 2**3/3*2-5\r\n",
      "                                \u001b[01;35m\u001b[K1\u001b[m\u001b[K\r\n",
      "\u001b[01;35m\u001b[KWarning:\u001b[m\u001b[K Integer division truncated to constant ‘\u001b[01m\u001b[K2\u001b[m\u001b[K’ at (1) [\u001b[01;35m\u001b[K-Winteger-division\u001b[m\u001b[K]\r\n"
     ]
    }
   ],
   "source": [
    "#Compilando o programa\n",
    "!f95 -o x -Wall -std=f2008 src/Exercicio_02.f95"
   ]
  },
  {
   "cell_type": "code",
   "execution_count": 35,
   "metadata": {
    "ExecuteTime": {
     "end_time": "2019-01-08T11:57:45.757673Z",
     "start_time": "2019-01-08T11:57:45.646718Z"
    }
   },
   "outputs": [
    {
     "name": "stdout",
     "output_type": "stream",
     "text": [
      " 2+1-10/3/4 =            3\r\n",
      " 2+1-10.0/3/4 =    2.16666675    \r\n",
      " 2+1-10/3.0/4 =    2.16666675    \r\n",
      " 2+1-10/3/4.0 =    2.25000000    \r\n",
      " 2**3/3*2-5 =           -1\r\n",
      " -(3*4-2)**(3-2**1+1)/(-2) =           50\r\n"
     ]
    }
   ],
   "source": [
    "# Rodando o programa\n",
    "!./x"
   ]
  },
  {
   "cell_type": "code",
   "execution_count": 7,
   "metadata": {
    "ExecuteTime": {
     "end_time": "2019-01-08T11:46:40.349177Z",
     "start_time": "2019-01-08T11:46:40.326735Z"
    }
   },
   "outputs": [
    {
     "name": "stdout",
     "output_type": "stream",
     "text": [
      "Overwriting src/FormatoLivre.f95\n"
     ]
    }
   ],
   "source": [
    "%%writefile src/FormatoLivre.f95\n",
    "PROGRAM FonteNaFormaLivre ! Nao ha coluna especial\n",
    "! Nomes Longos com underscores\n",
    "  IMPLICIT NONE\n",
    "  REAL :: a=3.0, B=4.0, x   ! Letras maiusculas e minusculas\n",
    "  REAL :: tx, ty, tz        ! comentario na frente de uma instrucao\n",
    "! Multiplas declaracoes por linha\n",
    "tx = 1.0; ty = 2.0; tz = tx * ty;   ! Diversas atribuições na mesma linha\n",
    "! Continuacao em uma linha\n",
    "PRINT *, &         ! Aqui quebramos a linha\n",
    "tx, ty, tz\n",
    "x = a + &          ! Outra forma de quebrar uma linha\n",
    "   & b**2\n",
    "END PROGRAM FonteNaFormaLivre"
   ]
  },
  {
   "cell_type": "code",
   "execution_count": 36,
   "metadata": {
    "ExecuteTime": {
     "end_time": "2019-01-08T11:58:02.104439Z",
     "start_time": "2019-01-08T11:58:01.949321Z"
    }
   },
   "outputs": [],
   "source": [
    "#Compilando o programa\n",
    "!f95 -o x -Wall -std=f2008 src/FormatoLivre.f95"
   ]
  },
  {
   "cell_type": "code",
   "execution_count": 37,
   "metadata": {
    "ExecuteTime": {
     "end_time": "2019-01-08T11:58:06.363426Z",
     "start_time": "2019-01-08T11:58:06.253785Z"
    }
   },
   "outputs": [
    {
     "name": "stdout",
     "output_type": "stream",
     "text": [
      "   1.00000000       2.00000000       2.00000000    \r\n"
     ]
    }
   ],
   "source": [
    "# Rodando o programa\n",
    "!./x"
   ]
  },
  {
   "cell_type": "markdown",
   "metadata": {},
   "source": [
    "## Operadores Relacionais\n",
    "\n",
    "| Fortran90 | Fortran77 | Significado    | Associatividade       |\n",
    "|:---------:|:---------:|----------------|-----------------------|\n",
    "|    $<$    |    .LT.   | menor que      | Esquerda para direita |\n",
    "|    $>$    |    .GT.   | maior que      | Esquerda para direita |\n",
    "|    $==$   |    .EQ.   | igual a        | Esquerda para direita |\n",
    "|    $<=$   |    .LE.   | menor ou igual | Esquerda para direita |\n",
    "|    $>=$   |    .GE.   | maior ou igual | Esquerda para direita |\n",
    "|    $/=$   |    .NE.   | diferente de   | Esquerda para direita |\n",
    "\n",
    "Operadores comuns a todas as versões do Fortran \n",
    "\n",
    "| Operador | Significado    | Associatividade       |\n",
    "|----------|----------------|-----------------------|\n",
    "| .AND.    | e              | Esquerda para direita |\n",
    "| .OR.     | ou             | Esquerda para direita |\n",
    "| .NOT.    | negação de     | Direita para esquerda |\n",
    "| .EQV.    | equivale à     | Esquerda para direita |\n",
    "| .NEQV.   | não equivale à | Esquerda para direita |\n",
    "\n",
    "<span style=\"color:blue\">**Nota:**</span> Observer que o operador <span style=\"color:red\">**.NOT.**</span> é unário.\n",
    "\n",
    "### Exemplos\n",
    "\n",
    "```Fortran\n",
    "\"F\"  >  \"A\"\n",
    "\"6\"  >  \"4\"\n",
    "\"gato\"  > \"cachorro\"\n",
    "\"Junho\" > \"Julho\"\n",
    "```\n",
    "\n",
    "Seja p e q variáveis lógicas, então:\n",
    "\n",
    "```Fortran\n",
    "LOGICAL :: p, q\n",
    "...\n",
    "p = .true.     ! .not. p = .false.\n",
    "q = .false.    ! .not. q = .true.\n",
    "```\n",
    "\n",
    "Temos ainda que:\n",
    "\n",
    "```Fortran\n",
    ".NOT. p .AND. q\n",
    "   !  --> .NOT.  .TRUE.  .AND.  .FALSE.\n",
    "   !  --> [.NOT.  .TRUE.]  .AND.  .FALSE.\n",
    "   !  --> .FALSE.  .AND.  .FALSE.\n",
    "   !  --> .FALSE.\n",
    "```\n",
    "\n",
    "E finalmente que:\n",
    "\n",
    "\n",
    "```Fortran\n",
    ".NOT.  (p .AND. q)\n",
    "   !  --> .NOT.  (.TRUE.  .AND.  .FALSE.)\n",
    "   !  --> .NOT.  ([.TRUE.  .AND.  .FALSE.])\n",
    "   !  --> .NOT.  .FALSE.\n",
    "   !  --> .TRUE.\n",
    "```"
   ]
  },
  {
   "cell_type": "code",
   "execution_count": 50,
   "metadata": {
    "ExecuteTime": {
     "end_time": "2019-01-08T12:28:03.516618Z",
     "start_time": "2019-01-08T12:28:03.504907Z"
    }
   },
   "outputs": [
    {
     "name": "stdout",
     "output_type": "stream",
     "text": [
      "Overwriting src/Exercicio_03.f95\n"
     ]
    }
   ],
   "source": [
    "%%writefile src/Exercicio_03.f95\n",
    "PROGRAM Exercicio! Diversas atribuições na mesma linha\n",
    "   IMPLICIT NONE\n",
    "   PRINT *, '\"F\"  >  \"A\" = ', \"F\"  >  \"A\"\n",
    "   PRINT *, '\"6\"  >  \"4\" = ', \"6\"  >  \"4\"\n",
    "   PRINT *, '\"gato\"  > \"cachorro\" = ', \"gato\"  > \"cachorro\"\n",
    "   PRINT *, '\"Junho\" > \"Julho\" = ', \"Junho\" > \"Julho\"\n",
    "END PROGRAM Exercicio"
   ]
  },
  {
   "cell_type": "code",
   "execution_count": 51,
   "metadata": {
    "ExecuteTime": {
     "end_time": "2019-01-08T12:28:06.390445Z",
     "start_time": "2019-01-08T12:28:06.233961Z"
    }
   },
   "outputs": [],
   "source": [
    "#Compilando o programa\n",
    "!f95 -o x -Wall -std=f2008  src/Exercicio_03.f95"
   ]
  },
  {
   "cell_type": "code",
   "execution_count": 52,
   "metadata": {
    "ExecuteTime": {
     "end_time": "2019-01-08T12:28:09.072026Z",
     "start_time": "2019-01-08T12:28:08.960610Z"
    }
   },
   "outputs": [
    {
     "name": "stdout",
     "output_type": "stream",
     "text": [
      " \"F\"  >  \"A\" =  T\r\n",
      " \"6\"  >  \"4\" =  T\r\n",
      " \"gato\"  > \"cachorro\" =  T\r\n",
      " \"Junho\" > \"Julho\" =  T\r\n"
     ]
    }
   ],
   "source": [
    "# Rodando o programa\n",
    "!./x"
   ]
  },
  {
   "cell_type": "code",
   "execution_count": 27,
   "metadata": {
    "ExecuteTime": {
     "end_time": "2019-01-08T11:55:01.417153Z",
     "start_time": "2019-01-08T11:55:01.409525Z"
    }
   },
   "outputs": [
    {
     "name": "stdout",
     "output_type": "stream",
     "text": [
      "Overwriting src/Exercicio_04.f95\n"
     ]
    }
   ],
   "source": [
    "%%writefile src/Exercicio_04.f95\n",
    "PROGRAM Exercicio\n",
    "   IMPLICIT NONE\n",
    "   LOGICAL :: p, q\n",
    "   p = .true.     ! .not. p = .false.\n",
    "   q = .false.    ! .not. q = .true.   \n",
    "   PRINT *, '.NOT. p .AND. q = ', .NOT. p .AND. q\n",
    "   PRINT *, '.NOT.  (p .AND. q) = ',.NOT.  (p .AND. q)\n",
    "END PROGRAM Exercicio"
   ]
  },
  {
   "cell_type": "code",
   "execution_count": 40,
   "metadata": {
    "ExecuteTime": {
     "end_time": "2019-01-08T11:58:36.609256Z",
     "start_time": "2019-01-08T11:58:36.446210Z"
    }
   },
   "outputs": [],
   "source": [
    "#Compilando o programa\n",
    "!f95 -o x -Wall -std=f2008  src/Exercicio_04.f95"
   ]
  },
  {
   "cell_type": "code",
   "execution_count": 41,
   "metadata": {
    "ExecuteTime": {
     "end_time": "2019-01-08T11:58:37.795605Z",
     "start_time": "2019-01-08T11:58:37.685978Z"
    }
   },
   "outputs": [
    {
     "name": "stdout",
     "output_type": "stream",
     "text": [
      " .NOT. p .AND. q =  F\r\n",
      " .NOT.  (p .AND. q) =  T\r\n"
     ]
    }
   ],
   "source": [
    "# Rodando o programa\n",
    "!./x"
   ]
  },
  {
   "cell_type": "markdown",
   "metadata": {},
   "source": [
    "## Tabela Verdade dos Operadores Relacionais\n",
    "\n",
    "Considere que as variáveis lógicas p e q, tais que:\n",
    "\n",
    "| **p** | **q** | **p .AND. q** | **p .OR. q** | **p .EQV. q** | **p .NEQV. q** |\n",
    "|:-----:|:-----:|:-------------:|:------------:|:-------------:|:--------------:|\n",
    "|  true |  true |      true     |     true     |      true     |      false     |\n",
    "|  true | false |     false     |     true     |     false     |      true      |\n",
    "| false |  true |     false     |     true     |     false     |      true      |\n",
    "| false | false |     false     |     false    |      true     |      false     |\n",
    "\n",
    "\n",
    "### Prioridade dos operadores\n",
    "\n",
    "|    Operador   | Prioridade |    Operador   | Prioridade |\n",
    "|:-------------:|:----------:|:-------------:|:----------:|\n",
    "|     $** $     | $1^{a}$    | .GT. ou  $>$  | $4^{a}$    |\n",
    "|     $*  $     | $2^{a}$    | .GE. ou  $>=$ | $4^{a}$    |\n",
    "|     $/  $     | $2^{a}$    | .LT. ou  $< $ | $4^{a}$    |\n",
    "|     $+  $     | $3^{a}$    | .LE. ou  $<=$ | $4^{a}$    |\n",
    "|     $-  $     | $3^{a}$    |     .NOT.     | $5^{a}$    |\n",
    "| .EQ. ou  $==$ | $4^{a}$    |     .AND.     | $6^{a}$    |\n",
    "| .NE. ou  $/=$ | $4^{a}$    |     .OR.      | $7^{a}$    |\n",
    "\n"
   ]
  },
  {
   "cell_type": "markdown",
   "metadata": {},
   "source": [
    "## Parênteses e Ordem de Prioridade\n",
    "\n",
    "O uso de parênteses pode ser feito para trocar a ordem de prioridade.\n",
    "\n",
    "```Fortran\n",
    "(20>10 .AND. 20>25).OR.(10<20 .AND. 10<(3*10))  ! .TRUE.\n",
    "!--> (.FALSE. .AND. .TRUE.) .OR (.TRUE. .AND. .TRUE. )\n",
    "!--> .FALSE. OR. .TRUE.\n",
    "!--> .TRUE.\n",
    "```\n",
    "\n",
    "ou ainda\n",
    "\n",
    "\n",
    "```Fortran\n",
    "LOGICAL :: p, q, r\n",
    "...\n",
    "p = .true. ;  q = .true. ; r = .false.\n",
    ".NOT. p .OR. .NOT. q .AND. r\n",
    "!--> .NOT. .TRUE. .OR. .NOT. .TRUE. .AND. .FALSE.\n",
    "!--> [.NOT. .TRUE.] .OR. .NOT. .TRUE. .AND. .FALSE.\n",
    "!--> .FALSE. .OR. .NOT. .TRUE. .AND. .FALSE.\n",
    "!--> .FALSE. .OR. [.NOT. .TRUE.] .AND. .FALSE.\n",
    "!--> .FALSE. .OR. .FALSE. .AND. .FALSE.\n",
    "!--> .FALSE. .OR. [.FALSE. .AND. .FALSE.]\n",
    "!--> .FALSE. .OR. .FALSE.\n",
    "!--> .FALSE.\n",
    "```\n",
    "\n",
    "um outro exemplo:\n",
    "\n",
    "\n",
    "```Fortran\n",
    "INTEGER :: n\n",
    "...\n",
    "n = 4\n",
    "...\n",
    "n**2 + 1 > 10 .AND. .NOT. n < 3\n",
    "! --> 4**2 + 1 > 10 .AND. .NOT. 4 < 3\n",
    "! --> [4**2] + 1 > 10 .AND. .NOT. 4 < 3\n",
    "! --> 16 + 1 > 10 .AND. .NOT. 4 < 3\n",
    "! --> [16 + 1] > 10 .AND. .NOT. 4 < 3\n",
    "! --> 17 > 10 .AND. .NOT. 4 < 3\n",
    "! --> [17 > 10] .AND. .NOT. 4 < 3\n",
    "! --> .TRUE. .AND. .NOT. 4 < 3\n",
    "! --> .TRUE. .AND. .NOT. [4 < 3]\n",
    "! --> .TRUE. .AND. .NOT. .FALSE\n",
    "! --> .TRUE. .AND. [.NOT. .FALSE]\n",
    "! --> .TRUE. .AND. .TRUE.\n",
    "! --> .TRUE.\n",
    "! Essa expressão é melhor assim:\n",
    "(n**2 + 1 > 10) .AND. ( .NOT. (n < 3) )\n",
    "```\n",
    "\n",
    "## Variáveis lógicas\n",
    "\n",
    "\n",
    "```Fortran\n",
    "INTEGER :: n, m, x, y\n",
    "...\n",
    "m=3; n=5; x=4; y=2 \n",
    "...\n",
    ".NOT. (m > n .AND. x < y) .NEQV.  (m <= n .AND. x >= y)\n",
    "!--> .NOT. (3 > 5 .AND. 4 < 2) .NEQV. (3 <= 5 .AND. 4 >= 2)\n",
    "!--> .NOT. ([3 > 5] .AND. 4 < 2) .NEQV. (3 <= 5 .AND. 4 >= 2)\n",
    "!--> .NOT. (.FALSE. .AND. 4 < 2) .NEQV. (3 <= 5 .AND. 4 >= 2)\n",
    "!--> .NOT. (.FALSE. .AND. [4 < 2]) .NEQV. (3 <= 5 .AND. 4 >= 2)\n",
    "!--> .NOT. (.FALSE. .AND. .FALSE.) .NEQV. (3 <= 5 .AND. 4 >= 2)\n",
    "!--> .NOT. ([.FALSE. .AND. .FALSE.]) .NEQV. (3 <= 5 .AND. 4 >= 2)\n",
    "!--> .NOT. (.FALSE.) .NEQV. (3 <= 5 .AND. 4 >= 2)\n",
    "!--> [.NOT. .FALSE.] .NEQV. (3 <= 5 .AND. 4 >= 2)\n",
    "!--> .TRUE. .NEQV. (3 <= 5 .AND. 4 >= 2)\n",
    "!--> .TRUE. .NEQV. ([3 <= 5] .AND. 4 >= 2)\n",
    "!--> .TRUE. .NEQV. (.TRUE. .AND. 4 >= 2)\n",
    "!--> .TRUE. .NEQV. (.TRUE. .AND. [4 >= 2])\n",
    "!--> .TRUE. .NEQV. (.TRUE. .AND. .TRUE.)\n",
    "!--> .TRUE. .NEQV. ([.TRUE. .AND. .TRUE.])\n",
    "!--> .TRUE. .NEQV. (.TRUE.)\n",
    "!--> .TRUE. .NEQV. .TRUE.\n",
    "!--> .FALSE.\n",
    "```"
   ]
  },
  {
   "cell_type": "markdown",
   "metadata": {},
   "source": [
    "```Fortran\n",
    "\n",
    "```"
   ]
  }
 ],
 "metadata": {
  "jupytext": {},
  "kernelspec": {
   "display_name": "Python 3",
   "language": "python",
   "name": "python3"
  },
  "language_info": {
   "codemirror_mode": {
    "name": "ipython",
    "version": 3
   },
   "file_extension": ".py",
   "mimetype": "text/x-python",
   "name": "python",
   "nbconvert_exporter": "python",
   "pygments_lexer": "ipython3",
   "version": "3.6.7"
  },
  "latex_envs": {
   "LaTeX_envs_menu_present": true,
   "autoclose": false,
   "autocomplete": false,
   "bibliofile": "biblio.bib",
   "cite_by": "key",
   "current_citInitial": 1,
   "eqLabelWithNumbers": true,
   "eqNumInitial": 1,
   "hotkeys": {
    "equation": "Ctrl-E",
    "itemize": "Ctrl-I"
   },
   "labels_anchors": false,
   "latex_user_defs": false,
   "report_style_numbering": false,
   "user_envs_cfg": false
  },
  "nbTranslate": {
   "displayLangs": [
    "pt",
    "en"
   ],
   "hotkey": "alt-t",
   "langInMainMenu": true,
   "sourceLang": "en",
   "targetLang": "pt",
   "useGoogleTranslate": true
  },
  "toc": {
   "base_numbering": 1,
   "nav_menu": {},
   "number_sections": true,
   "sideBar": true,
   "skip_h1_title": false,
   "title_cell": "Table of Contents",
   "title_sidebar": "Contents",
   "toc_cell": false,
   "toc_position": {},
   "toc_section_display": "block",
   "toc_window_display": false
  },
  "varInspector": {
   "cols": {
    "lenName": 16,
    "lenType": 16,
    "lenVar": 40
   },
   "kernels_config": {
    "python": {
     "delete_cmd_postfix": "",
     "delete_cmd_prefix": "del ",
     "library": "var_list.py",
     "varRefreshCmd": "print(var_dic_list())"
    },
    "r": {
     "delete_cmd_postfix": ") ",
     "delete_cmd_prefix": "rm(",
     "library": "var_list.r",
     "varRefreshCmd": "cat(var_dic_list()) "
    }
   },
   "types_to_exclude": [
    "module",
    "function",
    "builtin_function_or_method",
    "instance",
    "_Feature"
   ],
   "window_display": false
  }
 },
 "nbformat": 4,
 "nbformat_minor": 2
}
